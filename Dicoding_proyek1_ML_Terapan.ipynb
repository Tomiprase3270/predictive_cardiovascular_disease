{
 "cells": [
  {
   "cell_type": "markdown",
   "metadata": {
    "id": "IFdDQGVM31PE"
   },
   "source": [
    "# Cardiovascular Disease classification for health company prediction - by Tomi Prasetyo"
   ]
  },
  {
   "cell_type": "markdown",
   "metadata": {
    "id": "FiIbP3-_3-Ag"
   },
   "source": [
    "## Domain Proyek\n",
    "\n",
    "Menurut data dari WHO (World Health Organization), kardiovaskular atau penyakit yang berhubungan dengan jantung dan pembuluh darah merupakan penyebab kematian terbanyak di seluruh dunia. Pada tahun 2019 ada sekitar 17,9 juta orang meninggal karena kardiovaskular(https://www.who.int/news-room/fact-sheets/detail/cardiovascular-diseases-(cvds)). Sedangkan di Indonesia sendiri, menurut data dari Riset Kesehatan Dasar(Riskesdas) yang di kutip dari kementerian kesehatan, Setidaknya, 15 dari 1000 orang, atau sekitar 2.784.064 individu di Indonesia menderita penyakit jantung(http://p2ptm.kemkes.go.id/kegiatan-p2ptm/pusat-/hari-jantung-sedunia-world-heart-day-your-heart-is-our-heart-too).\n",
    "Berdasarkan data tersebut tentu diperlukan deteksi dini untuk menangantisipasi peningkatan penyakit jantung pada pasien, yang nantinya dapat digunakan oleh perusahaan yang bergerak di bidang kesehatan maupun rumah sakit, sehingga bisa dilakukan tindakan pencegahan dan perawatan.\n"
   ]
  },
  {
   "cell_type": "markdown",
   "metadata": {
    "id": "HRgcCfAg4BeF"
   },
   "source": [
    "## Bussiness Understanding\n",
    "\n",
    "Tentu saat ini rumah sakit sudah dilengkapi dengan alat yang dapat untuk merekam data berbagai kondisi dari pasien.\n",
    "Dengan data yang banyak dari berbagai rumah sakit maupun institusi yang tersedia di internet dapat digunakan untuk menyusun algoritma machine learning dalam hal klasifikasi apakah kemungkinan seorang pasien mempunyai peluang untuk memiliki masalah jantung dan pembuluh darah.\n",
    "\n",
    "Dengan sebuah sistem prediksi yang akurat, dapat meningkatkan kepercayaan pasien terhadap perusahaan yang bergerak di bidang kesehatan tersebut. Semakin banyak pasien yang mempercayakan kesehatannya kepada perusahaan tersebut, maka income pada perusahaan tersebut akan semakin besar pula."
   ]
  },
  {
   "cell_type": "markdown",
   "metadata": {
    "id": "VWbIpVXl4FF4"
   },
   "source": [
    "### Problem Statement\n",
    "\n",
    "Berdasarkan penjelasan diatas, perusahaan yang bergerak di bidang kesehatan dapat membuat sebuah sistem prediksi untuk mengklasifikasikan kemungkinan seorang pasien menderita kardiovaskular, dan bisa menjawab permasalahan berikut :\n",
    "\n",
    "- dari semua fitur yang ada fitur apa saja yang punya faktor terbesar sesorang mengidap kardiovaskular?\n",
    "- Apakah seseorang dengan data kesehatan tertentu diprediksi mempunyai resiko kardiovaskular?"
   ]
  },
  {
   "cell_type": "markdown",
   "metadata": {
    "id": "iNqy0OUN4OMU"
   },
   "source": [
    "### Goals\n",
    "\n",
    "Untuk menjawab pertanyaan tersebut, saya akan membuat klasifikasi modelling dengan tujuan atau goals sebagai berikut:\n",
    "\n",
    "- mengetahui fitur yang berrelasi terhadap klasifikasi kemungkinan kardiovaskular atau tidak.\n",
    "- Membuat model machine learning yang dapat mengklasifikasikan apakah sesorang kemungkinan dapat mengidap kardiovaskular dengan seakurat mungkin berdasarkan fitur-fitur yang ada."
   ]
  },
  {
   "cell_type": "markdown",
   "metadata": {
    "id": "pkbZkE4B4WGE"
   },
   "source": [
    "### Solution Statement\n",
    "\n",
    "Pada kasus ini, saya akan membuat sebuah sistem prediksi untuk kalsifikasi dengan memnfaatkan algoritma machine learning Random Forest.\n",
    "\n",
    "Random Forest adalah termasuk kedalam kelompok ensemble, dimana didalamnya terdapat bebrapa kelompok model machine learning sederhana yang secara bersama-sama menghasilkan model yang lebih powerfull.\n",
    "\n",
    "- model yang akan saya pakai adalah Random Forest Classifier karena kita akan melakukan proses klasifikasi. Model ini pada dasarkan terdiri dari beberapa model Decision Tree(Pohon Keputusan), dimana keluaran dari model diambil dari keluaran mana yang terbanyak.\n",
    "- Pada model saya mengadopsi teknik Bagging, dimana setiap model Decision Tree akan mengambil fitur secara acak dan setiap model akan menghasilkan keluaran yang berbeda.\n"
   ]
  },
  {
   "cell_type": "markdown",
   "metadata": {
    "id": "ss6eqSOh4aRg"
   },
   "source": [
    "## Data Understanding\n",
    "\n",
    "Data yang akan saya gunakan dalam proyek ini merupakan data yang didapat dari berbagai pengecakan medis dan tersedia secara bebas di situs dataset kaggle (https://www.kaggle.com/sulianova/cardiovascular-disease-dataset)\n",
    "\n",
    "Dataset ini terdiri dari 70.000 data dengan 11 feature dan 1 label sebagai berikut:"
   ]
  },
  {
   "cell_type": "markdown",
   "metadata": {
    "id": "1x_XW901iRnf"
   },
   "source": [
    "### Load dataset\n",
    "Setelah dataset kita unduh pada website diatas, kita dapat menyimpannya pada google drive.\n",
    "Kemudian kita dapat menghubungkan colab dengan Google drive melalui kode dibawah"
   ]
  },
  {
   "cell_type": "code",
   "execution_count": 1,
   "metadata": {
    "colab": {
     "base_uri": "https://localhost:8080/"
    },
    "id": "pTTtB-fMFRv2",
    "outputId": "90ba75e0-15da-4db9-8e2b-663ad1b78fd0"
   },
   "outputs": [
    {
     "name": "stdout",
     "output_type": "stream",
     "text": [
      "Mounted at /content/drive\n"
     ]
    }
   ],
   "source": [
    "from google.colab import drive\n",
    "drive.mount('/content/drive')"
   ]
  },
  {
   "cell_type": "code",
   "execution_count": 2,
   "metadata": {
    "id": "yjDiJmQ7INEw"
   },
   "outputs": [],
   "source": [
    "data = \"/content/drive/MyDrive/Colab Notebooks/dataset/cardio_train.csv\""
   ]
  },
  {
   "cell_type": "markdown",
   "metadata": {
    "id": "kFtlofkRic3E"
   },
   "source": [
    "\n",
    "\n",
    "### Feature\n",
    "\n",
    "terdiri dari dua jenis data, yaitu data numerik dan data kategori.\n",
    "\n",
    "data numerik meliputi : id, age, height, weight, ap_hi dan ap_lo,\n",
    "\n",
    "sedangkan data kategori meliputi : gender, cholesterol, gluc, alco, active\n",
    "\n",
    "Berikut penjelasan detail dari feature pada dataset\n",
    "\n",
    "- id : nomor urut pasien\n",
    "- age : merupakan umur pasien (dalam satuan hari)\n",
    "- height : merupakan tinggi pasien (dalam satuan sentimeter)\n",
    "- weight : merupakan berat badan pasien (dalam satuan kilogram)\n",
    "- Gender : merupakan jenis kelamin pasien\n",
    "- ap_hi : merupakan tekanan darah sistolik (dalam satuan mmHg)\n",
    "- ap_lo : merupakan tekanan darah diastolik (dalam satuan mmHg)\n",
    "- cholesterol : merupakan kadar kolesterol dalam kategori, yaitu normal, diatas normal dan jauh diatas normal\n",
    "- gluc : merupakan kadar glucosa dalam kategori, yaitu normal, diatas normal dan jauh diatas normal\n",
    "- smoke : merupakan data kategori apakah pasien merokok atau tidak\n",
    "- alco : merupakan data kategori apakah pasien sering mengkonsumsi alkohol atau tidak\n",
    "- active : merupakan data kategori apakah pasien sering bergerak atau tidak\n",
    "\n",
    "### Label\n",
    "\n",
    "Label disini merupakan satu kolom dengan nama kolom \"cardio\".\n",
    "\n",
    "Terdiri dari data kategori 0 dan 1, dimana 0 adalah \"no cardio (kemungkinan tidak kardiovaskular)\" dan 1 adalah \"cardio (kemungkinan akan mempunyai kardiovaskular)\""
   ]
  },
  {
   "cell_type": "markdown",
   "metadata": {
    "id": "SxAzq0bu547P"
   },
   "source": [
    "import  Library yang diperlukan. \n",
    "Disini saya memakai pandas dan numpy untuk mengolah dataframe, serta matplotlib, seaborn untuk visualisasi."
   ]
  },
  {
   "cell_type": "code",
   "execution_count": 3,
   "metadata": {
    "colab": {
     "base_uri": "https://localhost:8080/",
     "height": 206
    },
    "id": "hs5P3grMGp6G",
    "outputId": "6d4ed8c3-3e9f-45a2-c7cc-4ecb4765a64f"
   },
   "outputs": [
    {
     "data": {
      "text/html": [
       "<div>\n",
       "<style scoped>\n",
       "    .dataframe tbody tr th:only-of-type {\n",
       "        vertical-align: middle;\n",
       "    }\n",
       "\n",
       "    .dataframe tbody tr th {\n",
       "        vertical-align: top;\n",
       "    }\n",
       "\n",
       "    .dataframe thead th {\n",
       "        text-align: right;\n",
       "    }\n",
       "</style>\n",
       "<table border=\"1\" class=\"dataframe\">\n",
       "  <thead>\n",
       "    <tr style=\"text-align: right;\">\n",
       "      <th></th>\n",
       "      <th>id</th>\n",
       "      <th>age</th>\n",
       "      <th>gender</th>\n",
       "      <th>height</th>\n",
       "      <th>weight</th>\n",
       "      <th>ap_hi</th>\n",
       "      <th>ap_lo</th>\n",
       "      <th>cholesterol</th>\n",
       "      <th>gluc</th>\n",
       "      <th>smoke</th>\n",
       "      <th>alco</th>\n",
       "      <th>active</th>\n",
       "      <th>cardio</th>\n",
       "    </tr>\n",
       "  </thead>\n",
       "  <tbody>\n",
       "    <tr>\n",
       "      <th>0</th>\n",
       "      <td>0</td>\n",
       "      <td>18393</td>\n",
       "      <td>2</td>\n",
       "      <td>168</td>\n",
       "      <td>62.0</td>\n",
       "      <td>110</td>\n",
       "      <td>80</td>\n",
       "      <td>1</td>\n",
       "      <td>1</td>\n",
       "      <td>0</td>\n",
       "      <td>0</td>\n",
       "      <td>1</td>\n",
       "      <td>0</td>\n",
       "    </tr>\n",
       "    <tr>\n",
       "      <th>1</th>\n",
       "      <td>1</td>\n",
       "      <td>20228</td>\n",
       "      <td>1</td>\n",
       "      <td>156</td>\n",
       "      <td>85.0</td>\n",
       "      <td>140</td>\n",
       "      <td>90</td>\n",
       "      <td>3</td>\n",
       "      <td>1</td>\n",
       "      <td>0</td>\n",
       "      <td>0</td>\n",
       "      <td>1</td>\n",
       "      <td>1</td>\n",
       "    </tr>\n",
       "    <tr>\n",
       "      <th>2</th>\n",
       "      <td>2</td>\n",
       "      <td>18857</td>\n",
       "      <td>1</td>\n",
       "      <td>165</td>\n",
       "      <td>64.0</td>\n",
       "      <td>130</td>\n",
       "      <td>70</td>\n",
       "      <td>3</td>\n",
       "      <td>1</td>\n",
       "      <td>0</td>\n",
       "      <td>0</td>\n",
       "      <td>0</td>\n",
       "      <td>1</td>\n",
       "    </tr>\n",
       "    <tr>\n",
       "      <th>3</th>\n",
       "      <td>3</td>\n",
       "      <td>17623</td>\n",
       "      <td>2</td>\n",
       "      <td>169</td>\n",
       "      <td>82.0</td>\n",
       "      <td>150</td>\n",
       "      <td>100</td>\n",
       "      <td>1</td>\n",
       "      <td>1</td>\n",
       "      <td>0</td>\n",
       "      <td>0</td>\n",
       "      <td>1</td>\n",
       "      <td>1</td>\n",
       "    </tr>\n",
       "    <tr>\n",
       "      <th>4</th>\n",
       "      <td>4</td>\n",
       "      <td>17474</td>\n",
       "      <td>1</td>\n",
       "      <td>156</td>\n",
       "      <td>56.0</td>\n",
       "      <td>100</td>\n",
       "      <td>60</td>\n",
       "      <td>1</td>\n",
       "      <td>1</td>\n",
       "      <td>0</td>\n",
       "      <td>0</td>\n",
       "      <td>0</td>\n",
       "      <td>0</td>\n",
       "    </tr>\n",
       "  </tbody>\n",
       "</table>\n",
       "</div>"
      ],
      "text/plain": [
       "   id    age  gender  height  weight  ...  gluc  smoke  alco  active  cardio\n",
       "0   0  18393       2     168    62.0  ...     1      0     0       1       0\n",
       "1   1  20228       1     156    85.0  ...     1      0     0       1       1\n",
       "2   2  18857       1     165    64.0  ...     1      0     0       0       1\n",
       "3   3  17623       2     169    82.0  ...     1      0     0       1       1\n",
       "4   4  17474       1     156    56.0  ...     1      0     0       0       0\n",
       "\n",
       "[5 rows x 13 columns]"
      ]
     },
     "execution_count": 3,
     "metadata": {},
     "output_type": "execute_result"
    }
   ],
   "source": [
    "import pandas as pd\n",
    "import numpy as np\n",
    "import matplotlib.pyplot as plt\n",
    "%matplotlib inline\n",
    "import seaborn as sns\n",
    "\n",
    "df = pd.read_csv(data, sep=\";\")\n",
    "df.head()"
   ]
  },
  {
   "cell_type": "markdown",
   "metadata": {
    "id": "lwLyPd2-7Hsn"
   },
   "source": [
    "## Data Preparation"
   ]
  },
  {
   "cell_type": "markdown",
   "metadata": {
    "id": "j09OV72Giv51"
   },
   "source": [
    "membaca file apakah ada value missing value"
   ]
  },
  {
   "cell_type": "code",
   "execution_count": 4,
   "metadata": {
    "colab": {
     "base_uri": "https://localhost:8080/"
    },
    "id": "rNRTFYJhGxvt",
    "outputId": "2b9a4502-fb47-4fac-bdbb-079ae3766f97"
   },
   "outputs": [
    {
     "name": "stdout",
     "output_type": "stream",
     "text": [
      "<class 'pandas.core.frame.DataFrame'>\n",
      "RangeIndex: 70000 entries, 0 to 69999\n",
      "Data columns (total 13 columns):\n",
      " #   Column       Non-Null Count  Dtype  \n",
      "---  ------       --------------  -----  \n",
      " 0   id           70000 non-null  int64  \n",
      " 1   age          70000 non-null  int64  \n",
      " 2   gender       70000 non-null  int64  \n",
      " 3   height       70000 non-null  int64  \n",
      " 4   weight       70000 non-null  float64\n",
      " 5   ap_hi        70000 non-null  int64  \n",
      " 6   ap_lo        70000 non-null  int64  \n",
      " 7   cholesterol  70000 non-null  int64  \n",
      " 8   gluc         70000 non-null  int64  \n",
      " 9   smoke        70000 non-null  int64  \n",
      " 10  alco         70000 non-null  int64  \n",
      " 11  active       70000 non-null  int64  \n",
      " 12  cardio       70000 non-null  int64  \n",
      "dtypes: float64(1), int64(12)\n",
      "memory usage: 6.9 MB\n"
     ]
    }
   ],
   "source": [
    "df.info()"
   ]
  },
  {
   "cell_type": "markdown",
   "metadata": {
    "id": "kqX6E-leovtr"
   },
   "source": [
    "Menghilangkan kolom id, karena kolom id tidak ada korelasi dengan proses klasifikasi"
   ]
  },
  {
   "cell_type": "code",
   "execution_count": 5,
   "metadata": {
    "colab": {
     "base_uri": "https://localhost:8080/",
     "height": 206
    },
    "id": "odm43ly0odGK",
    "outputId": "3c078cb6-010b-44eb-c645-bf3875a9817f"
   },
   "outputs": [
    {
     "data": {
      "text/html": [
       "<div>\n",
       "<style scoped>\n",
       "    .dataframe tbody tr th:only-of-type {\n",
       "        vertical-align: middle;\n",
       "    }\n",
       "\n",
       "    .dataframe tbody tr th {\n",
       "        vertical-align: top;\n",
       "    }\n",
       "\n",
       "    .dataframe thead th {\n",
       "        text-align: right;\n",
       "    }\n",
       "</style>\n",
       "<table border=\"1\" class=\"dataframe\">\n",
       "  <thead>\n",
       "    <tr style=\"text-align: right;\">\n",
       "      <th></th>\n",
       "      <th>age</th>\n",
       "      <th>gender</th>\n",
       "      <th>height</th>\n",
       "      <th>weight</th>\n",
       "      <th>ap_hi</th>\n",
       "      <th>ap_lo</th>\n",
       "      <th>cholesterol</th>\n",
       "      <th>gluc</th>\n",
       "      <th>smoke</th>\n",
       "      <th>alco</th>\n",
       "      <th>active</th>\n",
       "      <th>cardio</th>\n",
       "    </tr>\n",
       "  </thead>\n",
       "  <tbody>\n",
       "    <tr>\n",
       "      <th>0</th>\n",
       "      <td>18393</td>\n",
       "      <td>2</td>\n",
       "      <td>168</td>\n",
       "      <td>62.0</td>\n",
       "      <td>110</td>\n",
       "      <td>80</td>\n",
       "      <td>1</td>\n",
       "      <td>1</td>\n",
       "      <td>0</td>\n",
       "      <td>0</td>\n",
       "      <td>1</td>\n",
       "      <td>0</td>\n",
       "    </tr>\n",
       "    <tr>\n",
       "      <th>1</th>\n",
       "      <td>20228</td>\n",
       "      <td>1</td>\n",
       "      <td>156</td>\n",
       "      <td>85.0</td>\n",
       "      <td>140</td>\n",
       "      <td>90</td>\n",
       "      <td>3</td>\n",
       "      <td>1</td>\n",
       "      <td>0</td>\n",
       "      <td>0</td>\n",
       "      <td>1</td>\n",
       "      <td>1</td>\n",
       "    </tr>\n",
       "    <tr>\n",
       "      <th>2</th>\n",
       "      <td>18857</td>\n",
       "      <td>1</td>\n",
       "      <td>165</td>\n",
       "      <td>64.0</td>\n",
       "      <td>130</td>\n",
       "      <td>70</td>\n",
       "      <td>3</td>\n",
       "      <td>1</td>\n",
       "      <td>0</td>\n",
       "      <td>0</td>\n",
       "      <td>0</td>\n",
       "      <td>1</td>\n",
       "    </tr>\n",
       "    <tr>\n",
       "      <th>3</th>\n",
       "      <td>17623</td>\n",
       "      <td>2</td>\n",
       "      <td>169</td>\n",
       "      <td>82.0</td>\n",
       "      <td>150</td>\n",
       "      <td>100</td>\n",
       "      <td>1</td>\n",
       "      <td>1</td>\n",
       "      <td>0</td>\n",
       "      <td>0</td>\n",
       "      <td>1</td>\n",
       "      <td>1</td>\n",
       "    </tr>\n",
       "    <tr>\n",
       "      <th>4</th>\n",
       "      <td>17474</td>\n",
       "      <td>1</td>\n",
       "      <td>156</td>\n",
       "      <td>56.0</td>\n",
       "      <td>100</td>\n",
       "      <td>60</td>\n",
       "      <td>1</td>\n",
       "      <td>1</td>\n",
       "      <td>0</td>\n",
       "      <td>0</td>\n",
       "      <td>0</td>\n",
       "      <td>0</td>\n",
       "    </tr>\n",
       "  </tbody>\n",
       "</table>\n",
       "</div>"
      ],
      "text/plain": [
       "     age  gender  height  weight  ap_hi  ...  gluc  smoke  alco  active  cardio\n",
       "0  18393       2     168    62.0    110  ...     1      0     0       1       0\n",
       "1  20228       1     156    85.0    140  ...     1      0     0       1       1\n",
       "2  18857       1     165    64.0    130  ...     1      0     0       0       1\n",
       "3  17623       2     169    82.0    150  ...     1      0     0       1       1\n",
       "4  17474       1     156    56.0    100  ...     1      0     0       0       0\n",
       "\n",
       "[5 rows x 12 columns]"
      ]
     },
     "execution_count": 5,
     "metadata": {},
     "output_type": "execute_result"
    }
   ],
   "source": [
    "df.drop(columns=['id'], inplace=True)\n",
    "df.head()"
   ]
  },
  {
   "cell_type": "markdown",
   "metadata": {
    "id": "FZzJaGrLqJei"
   },
   "source": [
    "Merubah value dari atribut \"age\" menjadi format tahun(jika pada dataframe sebelumnya adalah hari)"
   ]
  },
  {
   "cell_type": "code",
   "execution_count": 6,
   "metadata": {
    "colab": {
     "base_uri": "https://localhost:8080/",
     "height": 206
    },
    "id": "OjdN1X1FpIN_",
    "outputId": "17afebf2-0b53-459c-d74c-332820ac9191"
   },
   "outputs": [
    {
     "data": {
      "text/html": [
       "<div>\n",
       "<style scoped>\n",
       "    .dataframe tbody tr th:only-of-type {\n",
       "        vertical-align: middle;\n",
       "    }\n",
       "\n",
       "    .dataframe tbody tr th {\n",
       "        vertical-align: top;\n",
       "    }\n",
       "\n",
       "    .dataframe thead th {\n",
       "        text-align: right;\n",
       "    }\n",
       "</style>\n",
       "<table border=\"1\" class=\"dataframe\">\n",
       "  <thead>\n",
       "    <tr style=\"text-align: right;\">\n",
       "      <th></th>\n",
       "      <th>age</th>\n",
       "      <th>gender</th>\n",
       "      <th>height</th>\n",
       "      <th>weight</th>\n",
       "      <th>ap_hi</th>\n",
       "      <th>ap_lo</th>\n",
       "      <th>cholesterol</th>\n",
       "      <th>gluc</th>\n",
       "      <th>smoke</th>\n",
       "      <th>alco</th>\n",
       "      <th>active</th>\n",
       "      <th>cardio</th>\n",
       "    </tr>\n",
       "  </thead>\n",
       "  <tbody>\n",
       "    <tr>\n",
       "      <th>0</th>\n",
       "      <td>50.0</td>\n",
       "      <td>2</td>\n",
       "      <td>168</td>\n",
       "      <td>62.0</td>\n",
       "      <td>110</td>\n",
       "      <td>80</td>\n",
       "      <td>1</td>\n",
       "      <td>1</td>\n",
       "      <td>0</td>\n",
       "      <td>0</td>\n",
       "      <td>1</td>\n",
       "      <td>0</td>\n",
       "    </tr>\n",
       "    <tr>\n",
       "      <th>1</th>\n",
       "      <td>55.0</td>\n",
       "      <td>1</td>\n",
       "      <td>156</td>\n",
       "      <td>85.0</td>\n",
       "      <td>140</td>\n",
       "      <td>90</td>\n",
       "      <td>3</td>\n",
       "      <td>1</td>\n",
       "      <td>0</td>\n",
       "      <td>0</td>\n",
       "      <td>1</td>\n",
       "      <td>1</td>\n",
       "    </tr>\n",
       "    <tr>\n",
       "      <th>2</th>\n",
       "      <td>52.0</td>\n",
       "      <td>1</td>\n",
       "      <td>165</td>\n",
       "      <td>64.0</td>\n",
       "      <td>130</td>\n",
       "      <td>70</td>\n",
       "      <td>3</td>\n",
       "      <td>1</td>\n",
       "      <td>0</td>\n",
       "      <td>0</td>\n",
       "      <td>0</td>\n",
       "      <td>1</td>\n",
       "    </tr>\n",
       "    <tr>\n",
       "      <th>3</th>\n",
       "      <td>48.0</td>\n",
       "      <td>2</td>\n",
       "      <td>169</td>\n",
       "      <td>82.0</td>\n",
       "      <td>150</td>\n",
       "      <td>100</td>\n",
       "      <td>1</td>\n",
       "      <td>1</td>\n",
       "      <td>0</td>\n",
       "      <td>0</td>\n",
       "      <td>1</td>\n",
       "      <td>1</td>\n",
       "    </tr>\n",
       "    <tr>\n",
       "      <th>4</th>\n",
       "      <td>48.0</td>\n",
       "      <td>1</td>\n",
       "      <td>156</td>\n",
       "      <td>56.0</td>\n",
       "      <td>100</td>\n",
       "      <td>60</td>\n",
       "      <td>1</td>\n",
       "      <td>1</td>\n",
       "      <td>0</td>\n",
       "      <td>0</td>\n",
       "      <td>0</td>\n",
       "      <td>0</td>\n",
       "    </tr>\n",
       "  </tbody>\n",
       "</table>\n",
       "</div>"
      ],
      "text/plain": [
       "    age  gender  height  weight  ap_hi  ...  gluc  smoke  alco  active  cardio\n",
       "0  50.0       2     168    62.0    110  ...     1      0     0       1       0\n",
       "1  55.0       1     156    85.0    140  ...     1      0     0       1       1\n",
       "2  52.0       1     165    64.0    130  ...     1      0     0       0       1\n",
       "3  48.0       2     169    82.0    150  ...     1      0     0       1       1\n",
       "4  48.0       1     156    56.0    100  ...     1      0     0       0       0\n",
       "\n",
       "[5 rows x 12 columns]"
      ]
     },
     "execution_count": 6,
     "metadata": {},
     "output_type": "execute_result"
    }
   ],
   "source": [
    "df['age'] = round(df['age'] /365)\n",
    "df.head()"
   ]
  },
  {
   "cell_type": "markdown",
   "metadata": {
    "id": "qq2DmXBlb3mh"
   },
   "source": [
    "\n",
    "\n",
    "melakukan pengecekan terhadap data duplikat\n"
   ]
  },
  {
   "cell_type": "code",
   "execution_count": 7,
   "metadata": {
    "colab": {
     "base_uri": "https://localhost:8080/"
    },
    "id": "Eyv5z0QTYBQh",
    "outputId": "bf0694e0-094e-4fff-ba7a-39b928bd6b65"
   },
   "outputs": [
    {
     "data": {
      "text/plain": [
       "3816"
      ]
     },
     "execution_count": 7,
     "metadata": {},
     "output_type": "execute_result"
    }
   ],
   "source": [
    "df.duplicated().sum()"
   ]
  },
  {
   "cell_type": "markdown",
   "metadata": {
    "id": "rF43RL8CcCM5"
   },
   "source": [
    "menghapus data yang terduplikasi"
   ]
  },
  {
   "cell_type": "code",
   "execution_count": 8,
   "metadata": {
    "colab": {
     "base_uri": "https://localhost:8080/",
     "height": 424
    },
    "id": "ceaVBu7McKj1",
    "outputId": "e7b64cf0-50a7-436f-9b7f-f41e8723e1f5"
   },
   "outputs": [
    {
     "data": {
      "text/html": [
       "<div>\n",
       "<style scoped>\n",
       "    .dataframe tbody tr th:only-of-type {\n",
       "        vertical-align: middle;\n",
       "    }\n",
       "\n",
       "    .dataframe tbody tr th {\n",
       "        vertical-align: top;\n",
       "    }\n",
       "\n",
       "    .dataframe thead th {\n",
       "        text-align: right;\n",
       "    }\n",
       "</style>\n",
       "<table border=\"1\" class=\"dataframe\">\n",
       "  <thead>\n",
       "    <tr style=\"text-align: right;\">\n",
       "      <th></th>\n",
       "      <th>age</th>\n",
       "      <th>gender</th>\n",
       "      <th>height</th>\n",
       "      <th>weight</th>\n",
       "      <th>ap_hi</th>\n",
       "      <th>ap_lo</th>\n",
       "      <th>cholesterol</th>\n",
       "      <th>gluc</th>\n",
       "      <th>smoke</th>\n",
       "      <th>alco</th>\n",
       "      <th>active</th>\n",
       "      <th>cardio</th>\n",
       "    </tr>\n",
       "  </thead>\n",
       "  <tbody>\n",
       "    <tr>\n",
       "      <th>0</th>\n",
       "      <td>50.0</td>\n",
       "      <td>2</td>\n",
       "      <td>168</td>\n",
       "      <td>62.0</td>\n",
       "      <td>110</td>\n",
       "      <td>80</td>\n",
       "      <td>1</td>\n",
       "      <td>1</td>\n",
       "      <td>0</td>\n",
       "      <td>0</td>\n",
       "      <td>1</td>\n",
       "      <td>0</td>\n",
       "    </tr>\n",
       "    <tr>\n",
       "      <th>1</th>\n",
       "      <td>55.0</td>\n",
       "      <td>1</td>\n",
       "      <td>156</td>\n",
       "      <td>85.0</td>\n",
       "      <td>140</td>\n",
       "      <td>90</td>\n",
       "      <td>3</td>\n",
       "      <td>1</td>\n",
       "      <td>0</td>\n",
       "      <td>0</td>\n",
       "      <td>1</td>\n",
       "      <td>1</td>\n",
       "    </tr>\n",
       "    <tr>\n",
       "      <th>2</th>\n",
       "      <td>52.0</td>\n",
       "      <td>1</td>\n",
       "      <td>165</td>\n",
       "      <td>64.0</td>\n",
       "      <td>130</td>\n",
       "      <td>70</td>\n",
       "      <td>3</td>\n",
       "      <td>1</td>\n",
       "      <td>0</td>\n",
       "      <td>0</td>\n",
       "      <td>0</td>\n",
       "      <td>1</td>\n",
       "    </tr>\n",
       "    <tr>\n",
       "      <th>3</th>\n",
       "      <td>48.0</td>\n",
       "      <td>2</td>\n",
       "      <td>169</td>\n",
       "      <td>82.0</td>\n",
       "      <td>150</td>\n",
       "      <td>100</td>\n",
       "      <td>1</td>\n",
       "      <td>1</td>\n",
       "      <td>0</td>\n",
       "      <td>0</td>\n",
       "      <td>1</td>\n",
       "      <td>1</td>\n",
       "    </tr>\n",
       "    <tr>\n",
       "      <th>4</th>\n",
       "      <td>48.0</td>\n",
       "      <td>1</td>\n",
       "      <td>156</td>\n",
       "      <td>56.0</td>\n",
       "      <td>100</td>\n",
       "      <td>60</td>\n",
       "      <td>1</td>\n",
       "      <td>1</td>\n",
       "      <td>0</td>\n",
       "      <td>0</td>\n",
       "      <td>0</td>\n",
       "      <td>0</td>\n",
       "    </tr>\n",
       "    <tr>\n",
       "      <th>...</th>\n",
       "      <td>...</td>\n",
       "      <td>...</td>\n",
       "      <td>...</td>\n",
       "      <td>...</td>\n",
       "      <td>...</td>\n",
       "      <td>...</td>\n",
       "      <td>...</td>\n",
       "      <td>...</td>\n",
       "      <td>...</td>\n",
       "      <td>...</td>\n",
       "      <td>...</td>\n",
       "      <td>...</td>\n",
       "    </tr>\n",
       "    <tr>\n",
       "      <th>69995</th>\n",
       "      <td>53.0</td>\n",
       "      <td>2</td>\n",
       "      <td>168</td>\n",
       "      <td>76.0</td>\n",
       "      <td>120</td>\n",
       "      <td>80</td>\n",
       "      <td>1</td>\n",
       "      <td>1</td>\n",
       "      <td>1</td>\n",
       "      <td>0</td>\n",
       "      <td>1</td>\n",
       "      <td>0</td>\n",
       "    </tr>\n",
       "    <tr>\n",
       "      <th>69996</th>\n",
       "      <td>62.0</td>\n",
       "      <td>1</td>\n",
       "      <td>158</td>\n",
       "      <td>126.0</td>\n",
       "      <td>140</td>\n",
       "      <td>90</td>\n",
       "      <td>2</td>\n",
       "      <td>2</td>\n",
       "      <td>0</td>\n",
       "      <td>0</td>\n",
       "      <td>1</td>\n",
       "      <td>1</td>\n",
       "    </tr>\n",
       "    <tr>\n",
       "      <th>69997</th>\n",
       "      <td>52.0</td>\n",
       "      <td>2</td>\n",
       "      <td>183</td>\n",
       "      <td>105.0</td>\n",
       "      <td>180</td>\n",
       "      <td>90</td>\n",
       "      <td>3</td>\n",
       "      <td>1</td>\n",
       "      <td>0</td>\n",
       "      <td>1</td>\n",
       "      <td>0</td>\n",
       "      <td>1</td>\n",
       "    </tr>\n",
       "    <tr>\n",
       "      <th>69998</th>\n",
       "      <td>61.0</td>\n",
       "      <td>1</td>\n",
       "      <td>163</td>\n",
       "      <td>72.0</td>\n",
       "      <td>135</td>\n",
       "      <td>80</td>\n",
       "      <td>1</td>\n",
       "      <td>2</td>\n",
       "      <td>0</td>\n",
       "      <td>0</td>\n",
       "      <td>0</td>\n",
       "      <td>1</td>\n",
       "    </tr>\n",
       "    <tr>\n",
       "      <th>69999</th>\n",
       "      <td>56.0</td>\n",
       "      <td>1</td>\n",
       "      <td>170</td>\n",
       "      <td>72.0</td>\n",
       "      <td>120</td>\n",
       "      <td>80</td>\n",
       "      <td>2</td>\n",
       "      <td>1</td>\n",
       "      <td>0</td>\n",
       "      <td>0</td>\n",
       "      <td>1</td>\n",
       "      <td>0</td>\n",
       "    </tr>\n",
       "  </tbody>\n",
       "</table>\n",
       "<p>66184 rows × 12 columns</p>\n",
       "</div>"
      ],
      "text/plain": [
       "        age  gender  height  weight  ap_hi  ...  gluc  smoke  alco  active  cardio\n",
       "0      50.0       2     168    62.0    110  ...     1      0     0       1       0\n",
       "1      55.0       1     156    85.0    140  ...     1      0     0       1       1\n",
       "2      52.0       1     165    64.0    130  ...     1      0     0       0       1\n",
       "3      48.0       2     169    82.0    150  ...     1      0     0       1       1\n",
       "4      48.0       1     156    56.0    100  ...     1      0     0       0       0\n",
       "...     ...     ...     ...     ...    ...  ...   ...    ...   ...     ...     ...\n",
       "69995  53.0       2     168    76.0    120  ...     1      1     0       1       0\n",
       "69996  62.0       1     158   126.0    140  ...     2      0     0       1       1\n",
       "69997  52.0       2     183   105.0    180  ...     1      0     1       0       1\n",
       "69998  61.0       1     163    72.0    135  ...     2      0     0       0       1\n",
       "69999  56.0       1     170    72.0    120  ...     1      0     0       1       0\n",
       "\n",
       "[66184 rows x 12 columns]"
      ]
     },
     "execution_count": 8,
     "metadata": {},
     "output_type": "execute_result"
    }
   ],
   "source": [
    "df.drop_duplicates(inplace=True)\n",
    "df"
   ]
  },
  {
   "cell_type": "markdown",
   "metadata": {
    "id": "GzPPCRZAcc78"
   },
   "source": [
    "melihat sebaran data pada target"
   ]
  },
  {
   "cell_type": "code",
   "execution_count": 9,
   "metadata": {
    "colab": {
     "base_uri": "https://localhost:8080/",
     "height": 296
    },
    "id": "0TrgZS1l0cc_",
    "outputId": "aa05cdd1-cb7c-4ff2-886c-b116b91739c0"
   },
   "outputs": [
    {
     "data": {
      "text/plain": [
       "<matplotlib.axes._subplots.AxesSubplot at 0x7f0daa590e50>"
      ]
     },
     "execution_count": 9,
     "metadata": {},
     "output_type": "execute_result"
    },
    {
     "data": {
      "image/png": "[encoded data removed]",
      "text/plain": [
       "<Figure size 432x288 with 1 Axes>"
      ]
     },
     "metadata": {
      "needs_background": "light"
     },
     "output_type": "display_data"
    }
   ],
   "source": [
    "cardio = df['cardio'].value_counts()\n",
    "cardio.plot(kind='bar', title='cardio')"
   ]
  },
  {
   "cell_type": "markdown",
   "metadata": {
    "id": "N62CkXJSMjFg"
   },
   "source": [
    "melakukan pengecekan desripsi data dengan fungsi describe()"
   ]
  },
  {
   "cell_type": "code",
   "execution_count": 10,
   "metadata": {
    "colab": {
     "base_uri": "https://localhost:8080/",
     "height": 300
    },
    "id": "RNdCPEJsJDWv",
    "outputId": "5dc4950f-17bf-40f9-f4d8-4e26466dbfce"
   },
   "outputs": [
    {
     "data": {
      "text/html": [
       "<div>\n",
       "<style scoped>\n",
       "    .dataframe tbody tr th:only-of-type {\n",
       "        vertical-align: middle;\n",
       "    }\n",
       "\n",
       "    .dataframe tbody tr th {\n",
       "        vertical-align: top;\n",
       "    }\n",
       "\n",
       "    .dataframe thead th {\n",
       "        text-align: right;\n",
       "    }\n",
       "</style>\n",
       "<table border=\"1\" class=\"dataframe\">\n",
       "  <thead>\n",
       "    <tr style=\"text-align: right;\">\n",
       "      <th></th>\n",
       "      <th>age</th>\n",
       "      <th>gender</th>\n",
       "      <th>height</th>\n",
       "      <th>weight</th>\n",
       "      <th>ap_hi</th>\n",
       "      <th>ap_lo</th>\n",
       "      <th>cholesterol</th>\n",
       "      <th>gluc</th>\n",
       "      <th>smoke</th>\n",
       "      <th>alco</th>\n",
       "      <th>active</th>\n",
       "      <th>cardio</th>\n",
       "    </tr>\n",
       "  </thead>\n",
       "  <tbody>\n",
       "    <tr>\n",
       "      <th>count</th>\n",
       "      <td>66184.000000</td>\n",
       "      <td>66184.000000</td>\n",
       "      <td>66184.000000</td>\n",
       "      <td>66184.000000</td>\n",
       "      <td>66184.000000</td>\n",
       "      <td>66184.000000</td>\n",
       "      <td>66184.000000</td>\n",
       "      <td>66184.000000</td>\n",
       "      <td>66184.000000</td>\n",
       "      <td>66184.000000</td>\n",
       "      <td>66184.000000</td>\n",
       "      <td>66184.000000</td>\n",
       "    </tr>\n",
       "    <tr>\n",
       "      <th>mean</th>\n",
       "      <td>53.365209</td>\n",
       "      <td>1.357231</td>\n",
       "      <td>164.345114</td>\n",
       "      <td>74.579057</td>\n",
       "      <td>129.304938</td>\n",
       "      <td>97.607186</td>\n",
       "      <td>1.385985</td>\n",
       "      <td>1.238169</td>\n",
       "      <td>0.092772</td>\n",
       "      <td>0.056751</td>\n",
       "      <td>0.797625</td>\n",
       "      <td>0.513614</td>\n",
       "    </tr>\n",
       "    <tr>\n",
       "      <th>std</th>\n",
       "      <td>6.807710</td>\n",
       "      <td>0.479187</td>\n",
       "      <td>8.353877</td>\n",
       "      <td>14.613279</td>\n",
       "      <td>158.368179</td>\n",
       "      <td>193.782532</td>\n",
       "      <td>0.692229</td>\n",
       "      <td>0.584137</td>\n",
       "      <td>0.290114</td>\n",
       "      <td>0.231368</td>\n",
       "      <td>0.401773</td>\n",
       "      <td>0.499818</td>\n",
       "    </tr>\n",
       "    <tr>\n",
       "      <th>min</th>\n",
       "      <td>30.000000</td>\n",
       "      <td>1.000000</td>\n",
       "      <td>55.000000</td>\n",
       "      <td>10.000000</td>\n",
       "      <td>-150.000000</td>\n",
       "      <td>-70.000000</td>\n",
       "      <td>1.000000</td>\n",
       "      <td>1.000000</td>\n",
       "      <td>0.000000</td>\n",
       "      <td>0.000000</td>\n",
       "      <td>0.000000</td>\n",
       "      <td>0.000000</td>\n",
       "    </tr>\n",
       "    <tr>\n",
       "      <th>25%</th>\n",
       "      <td>48.000000</td>\n",
       "      <td>1.000000</td>\n",
       "      <td>159.000000</td>\n",
       "      <td>65.000000</td>\n",
       "      <td>120.000000</td>\n",
       "      <td>80.000000</td>\n",
       "      <td>1.000000</td>\n",
       "      <td>1.000000</td>\n",
       "      <td>0.000000</td>\n",
       "      <td>0.000000</td>\n",
       "      <td>1.000000</td>\n",
       "      <td>0.000000</td>\n",
       "    </tr>\n",
       "    <tr>\n",
       "      <th>50%</th>\n",
       "      <td>54.000000</td>\n",
       "      <td>1.000000</td>\n",
       "      <td>165.000000</td>\n",
       "      <td>72.000000</td>\n",
       "      <td>120.000000</td>\n",
       "      <td>80.000000</td>\n",
       "      <td>1.000000</td>\n",
       "      <td>1.000000</td>\n",
       "      <td>0.000000</td>\n",
       "      <td>0.000000</td>\n",
       "      <td>1.000000</td>\n",
       "      <td>1.000000</td>\n",
       "    </tr>\n",
       "    <tr>\n",
       "      <th>75%</th>\n",
       "      <td>59.000000</td>\n",
       "      <td>2.000000</td>\n",
       "      <td>170.000000</td>\n",
       "      <td>83.000000</td>\n",
       "      <td>140.000000</td>\n",
       "      <td>90.000000</td>\n",
       "      <td>2.000000</td>\n",
       "      <td>1.000000</td>\n",
       "      <td>0.000000</td>\n",
       "      <td>0.000000</td>\n",
       "      <td>1.000000</td>\n",
       "      <td>1.000000</td>\n",
       "    </tr>\n",
       "    <tr>\n",
       "      <th>max</th>\n",
       "      <td>65.000000</td>\n",
       "      <td>2.000000</td>\n",
       "      <td>250.000000</td>\n",
       "      <td>200.000000</td>\n",
       "      <td>16020.000000</td>\n",
       "      <td>11000.000000</td>\n",
       "      <td>3.000000</td>\n",
       "      <td>3.000000</td>\n",
       "      <td>1.000000</td>\n",
       "      <td>1.000000</td>\n",
       "      <td>1.000000</td>\n",
       "      <td>1.000000</td>\n",
       "    </tr>\n",
       "  </tbody>\n",
       "</table>\n",
       "</div>"
      ],
      "text/plain": [
       "                age        gender  ...        active        cardio\n",
       "count  66184.000000  66184.000000  ...  66184.000000  66184.000000\n",
       "mean      53.365209      1.357231  ...      0.797625      0.513614\n",
       "std        6.807710      0.479187  ...      0.401773      0.499818\n",
       "min       30.000000      1.000000  ...      0.000000      0.000000\n",
       "25%       48.000000      1.000000  ...      1.000000      0.000000\n",
       "50%       54.000000      1.000000  ...      1.000000      1.000000\n",
       "75%       59.000000      2.000000  ...      1.000000      1.000000\n",
       "max       65.000000      2.000000  ...      1.000000      1.000000\n",
       "\n",
       "[8 rows x 12 columns]"
      ]
     },
     "execution_count": 10,
     "metadata": {},
     "output_type": "execute_result"
    }
   ],
   "source": [
    "df.describe()"
   ]
  },
  {
   "cell_type": "markdown",
   "metadata": {
    "id": "aIAYVmxfMo1W"
   },
   "source": [
    "Dari data tersebut kita mendapati uraian sebagai berikut :\n",
    "\n",
    "\n",
    "---\n",
    "\n",
    "\n",
    "\n",
    "*   minimum umur adalah 30 tahun dan maksimum adalah 65 tahun\n",
    "*   minimum tinggi adalah 55 cm dan maksimum 250 cm\n",
    "*   minimum berat adalah 10 kg dan maksimum berat adalah 200 kg\n",
    "*   minimumm tekanan darah sistolik adalah -150 mmHg dan maksimum 16.020 mmHg\n",
    "*   minimum tekanan darah diastolik adalah -70 mmHg dan maksimum 11.000 mmHg\n",
    "\n",
    "\n",
    "dari data tersebut dapat kita simpulkan bahwa ada outlier data, dimana pada tinggi 55 cm dengan usia minimal 30 tahun terlihat begitu rancu, apalagi dengan tekanan darah minimum di -150 dan maksimum 16.020 tentu akan menjadi pertimbangan dari data tersebut.\n",
    "\n",
    "\n",
    "\n",
    "\n"
   ]
  },
  {
   "cell_type": "markdown",
   "metadata": {
    "id": "ddVmKMgSoZhC"
   },
   "source": [
    "### Exploratory Data Analysis\n"
   ]
  },
  {
   "cell_type": "markdown",
   "metadata": {
    "id": "ZwMh4E7fm2Sw"
   },
   "source": [
    "outlier data\n",
    "\n",
    "menghapus data ambigu. yaitu data yang mempunyai rentang terlalu jauh dengan rata-rata data. Ataupun bisa kita katakan data yang tidak sesuai pada kenyataan. Seperti tekanan darah yang terlalu tinggi, ataupun jauh dari batas rendah, tentu itu tidak terjadi di dunia nyata."
   ]
  },
  {
   "cell_type": "code",
   "execution_count": 11,
   "metadata": {
    "colab": {
     "base_uri": "https://localhost:8080/",
     "height": 312
    },
    "id": "3QTTwyTzrY06",
    "outputId": "a83d658e-cd87-49ba-a91e-2b3734b6e0de"
   },
   "outputs": [
    {
     "data": {
      "text/plain": [
       "Text(0.5, 1.0, 'distribution of Height')"
      ]
     },
     "execution_count": 11,
     "metadata": {},
     "output_type": "execute_result"
    },
    {
     "data": {
      "image/png": "[encoded data removed]",
      "text/plain": [
       "<Figure size 432x288 with 1 Axes>"
      ]
     },
     "metadata": {
      "needs_background": "light"
     },
     "output_type": "display_data"
    }
   ],
   "source": [
    "sns.boxplot(x=df['height'])\n",
    "plt.title('distribution of Height')"
   ]
  },
  {
   "cell_type": "code",
   "execution_count": 12,
   "metadata": {
    "colab": {
     "base_uri": "https://localhost:8080/",
     "height": 312
    },
    "id": "dHB7RqeHsD0y",
    "outputId": "1e889071-1bbe-4bf6-f558-31f6087d497c"
   },
   "outputs": [
    {
     "data": {
      "text/plain": [
       "Text(0.5, 1.0, 'distribution of Weight')"
      ]
     },
     "execution_count": 12,
     "metadata": {},
     "output_type": "execute_result"
    },
    {
     "data": {
      "image/png": "[encoded data removed]",
      "text/plain": [
       "<Figure size 432x288 with 1 Axes>"
      ]
     },
     "metadata": {
      "needs_background": "light"
     },
     "output_type": "display_data"
    }
   ],
   "source": [
    "sns.boxplot(x=df['weight'])\n",
    "plt.title('distribution of Weight')"
   ]
  },
  {
   "cell_type": "code",
   "execution_count": 13,
   "metadata": {
    "colab": {
     "base_uri": "https://localhost:8080/",
     "height": 313
    },
    "id": "iIQ5pknbsJMU",
    "outputId": "9ff0caea-cf85-452a-f1e5-33b5622adea0"
   },
   "outputs": [
    {
     "data": {
      "text/plain": [
       "Text(0.5, 1.0, 'distribution of Systolic blood pressure')"
      ]
     },
     "execution_count": 13,
     "metadata": {},
     "output_type": "execute_result"
    },
    {
     "data": {
      "image/png": "[encoded data removed]",
      "text/plain": [
       "<Figure size 432x288 with 1 Axes>"
      ]
     },
     "metadata": {
      "needs_background": "light"
     },
     "output_type": "display_data"
    }
   ],
   "source": [
    "sns.boxplot(x=df['ap_hi'])\n",
    "plt.title('distribution of Systolic blood pressure')"
   ]
  },
  {
   "cell_type": "code",
   "execution_count": 14,
   "metadata": {
    "colab": {
     "base_uri": "https://localhost:8080/",
     "height": 313
    },
    "id": "tDVtdr_FsZTM",
    "outputId": "bb84ea06-87b7-434b-c180-de0e9257f0a9"
   },
   "outputs": [
    {
     "data": {
      "text/plain": [
       "Text(0.5, 1.0, 'distribution of Dyastolic blood pressure')"
      ]
     },
     "execution_count": 14,
     "metadata": {},
     "output_type": "execute_result"
    },
    {
     "data": {
      "image/png": "[encoded data removed]",
      "text/plain": [
       "<Figure size 432x288 with 1 Axes>"
      ]
     },
     "metadata": {
      "needs_background": "light"
     },
     "output_type": "display_data"
    }
   ],
   "source": [
    "sns.boxplot(x=df['ap_lo'])\n",
    "plt.title('distribution of Dyastolic blood pressure')"
   ]
  },
  {
   "cell_type": "code",
   "execution_count": 15,
   "metadata": {
    "colab": {
     "base_uri": "https://localhost:8080/"
    },
    "id": "MDN9A9Txi42e",
    "outputId": "2322560f-d3ad-4961-9c0a-9f60f25a1fd6"
   },
   "outputs": [
    {
     "name": "stdout",
     "output_type": "stream",
     "text": [
      "jumlah tinggi kurang dari 140 cm =  199 data\n",
      "jumlah tinggi lebih dari 200 cm =  3 data\n",
      "jumlah berat kurang dari 35 kg =  22 data\n",
      "jumlah berat lebih dari 120 kg =  607 data\n",
      "tekanan darah sistolik lebih dari 300 mmHg =  40 data\n",
      "tekanan darah sistolik kurang dari 50 mmHg =  187 data\n",
      "tekanan darah diastolik lebih dari 250 mmHg =  953 data\n",
      "tekanan darah diastolik kurang dari 40 mmHg =  76 data\n"
     ]
    }
   ],
   "source": [
    "min_height = (df.height <= 140)\n",
    "print('jumlah tinggi kurang dari 140 cm = ', min_height.sum(), 'data')\n",
    "max_height = (df.height >= 200)\n",
    "print('jumlah tinggi lebih dari 200 cm = ', max_height.sum(), 'data')\n",
    "min_weight = (df.weight <= 35)\n",
    "print('jumlah berat kurang dari 35 kg = ', min_weight.sum(), 'data')\n",
    "max_weight = (df.weight >= 120)\n",
    "print('jumlah berat lebih dari 120 kg = ', max_weight.sum(), 'data')\n",
    "max_ap_hi = (df.ap_hi >= 300)\n",
    "print('tekanan darah sistolik lebih dari 300 mmHg = ', max_ap_hi.sum(), 'data')\n",
    "min_ap_hi = (df.ap_hi <= 50)\n",
    "print('tekanan darah sistolik kurang dari 50 mmHg = ', min_ap_hi.sum(), 'data')\n",
    "max_ap_lo = (df.ap_lo >= 250)\n",
    "print('tekanan darah diastolik lebih dari 250 mmHg = ', max_ap_lo.sum(), 'data')\n",
    "min_ap_lo = (df.ap_lo <= 40)\n",
    "print('tekanan darah diastolik kurang dari 40 mmHg = ', min_ap_lo.sum(), 'data')"
   ]
  },
  {
   "cell_type": "markdown",
   "metadata": {
    "id": "6Q_KqC5JsthN"
   },
   "source": [
    "Menghapus data outlier"
   ]
  },
  {
   "cell_type": "code",
   "execution_count": 16,
   "metadata": {
    "colab": {
     "base_uri": "https://localhost:8080/",
     "height": 424
    },
    "id": "EsEKfoY8b11L",
    "outputId": "ce39d57f-2029-4789-a11a-8390be699aef"
   },
   "outputs": [
    {
     "data": {
      "text/html": [
       "<div>\n",
       "<style scoped>\n",
       "    .dataframe tbody tr th:only-of-type {\n",
       "        vertical-align: middle;\n",
       "    }\n",
       "\n",
       "    .dataframe tbody tr th {\n",
       "        vertical-align: top;\n",
       "    }\n",
       "\n",
       "    .dataframe thead th {\n",
       "        text-align: right;\n",
       "    }\n",
       "</style>\n",
       "<table border=\"1\" class=\"dataframe\">\n",
       "  <thead>\n",
       "    <tr style=\"text-align: right;\">\n",
       "      <th></th>\n",
       "      <th>age</th>\n",
       "      <th>gender</th>\n",
       "      <th>height</th>\n",
       "      <th>weight</th>\n",
       "      <th>ap_hi</th>\n",
       "      <th>ap_lo</th>\n",
       "      <th>cholesterol</th>\n",
       "      <th>gluc</th>\n",
       "      <th>smoke</th>\n",
       "      <th>alco</th>\n",
       "      <th>active</th>\n",
       "      <th>cardio</th>\n",
       "    </tr>\n",
       "  </thead>\n",
       "  <tbody>\n",
       "    <tr>\n",
       "      <th>224</th>\n",
       "      <td>60.0</td>\n",
       "      <td>2</td>\n",
       "      <td>76</td>\n",
       "      <td>55.0</td>\n",
       "      <td>120</td>\n",
       "      <td>80</td>\n",
       "      <td>1</td>\n",
       "      <td>1</td>\n",
       "      <td>0</td>\n",
       "      <td>0</td>\n",
       "      <td>1</td>\n",
       "      <td>0</td>\n",
       "    </tr>\n",
       "    <tr>\n",
       "      <th>228</th>\n",
       "      <td>48.0</td>\n",
       "      <td>2</td>\n",
       "      <td>183</td>\n",
       "      <td>98.0</td>\n",
       "      <td>160</td>\n",
       "      <td>1100</td>\n",
       "      <td>1</td>\n",
       "      <td>2</td>\n",
       "      <td>1</td>\n",
       "      <td>0</td>\n",
       "      <td>1</td>\n",
       "      <td>1</td>\n",
       "    </tr>\n",
       "    <tr>\n",
       "      <th>241</th>\n",
       "      <td>60.0</td>\n",
       "      <td>2</td>\n",
       "      <td>157</td>\n",
       "      <td>60.0</td>\n",
       "      <td>160</td>\n",
       "      <td>1000</td>\n",
       "      <td>2</td>\n",
       "      <td>1</td>\n",
       "      <td>0</td>\n",
       "      <td>0</td>\n",
       "      <td>0</td>\n",
       "      <td>1</td>\n",
       "    </tr>\n",
       "    <tr>\n",
       "      <th>260</th>\n",
       "      <td>50.0</td>\n",
       "      <td>1</td>\n",
       "      <td>150</td>\n",
       "      <td>83.0</td>\n",
       "      <td>140</td>\n",
       "      <td>800</td>\n",
       "      <td>1</td>\n",
       "      <td>1</td>\n",
       "      <td>0</td>\n",
       "      <td>0</td>\n",
       "      <td>1</td>\n",
       "      <td>1</td>\n",
       "    </tr>\n",
       "    <tr>\n",
       "      <th>329</th>\n",
       "      <td>64.0</td>\n",
       "      <td>1</td>\n",
       "      <td>176</td>\n",
       "      <td>63.0</td>\n",
       "      <td>160</td>\n",
       "      <td>1000</td>\n",
       "      <td>2</td>\n",
       "      <td>2</td>\n",
       "      <td>0</td>\n",
       "      <td>0</td>\n",
       "      <td>0</td>\n",
       "      <td>1</td>\n",
       "    </tr>\n",
       "    <tr>\n",
       "      <th>...</th>\n",
       "      <td>...</td>\n",
       "      <td>...</td>\n",
       "      <td>...</td>\n",
       "      <td>...</td>\n",
       "      <td>...</td>\n",
       "      <td>...</td>\n",
       "      <td>...</td>\n",
       "      <td>...</td>\n",
       "      <td>...</td>\n",
       "      <td>...</td>\n",
       "      <td>...</td>\n",
       "      <td>...</td>\n",
       "    </tr>\n",
       "    <tr>\n",
       "      <th>69872</th>\n",
       "      <td>60.0</td>\n",
       "      <td>1</td>\n",
       "      <td>152</td>\n",
       "      <td>56.0</td>\n",
       "      <td>160</td>\n",
       "      <td>1000</td>\n",
       "      <td>1</td>\n",
       "      <td>1</td>\n",
       "      <td>0</td>\n",
       "      <td>0</td>\n",
       "      <td>1</td>\n",
       "      <td>1</td>\n",
       "    </tr>\n",
       "    <tr>\n",
       "      <th>69878</th>\n",
       "      <td>58.0</td>\n",
       "      <td>2</td>\n",
       "      <td>168</td>\n",
       "      <td>95.0</td>\n",
       "      <td>160</td>\n",
       "      <td>1000</td>\n",
       "      <td>1</td>\n",
       "      <td>1</td>\n",
       "      <td>0</td>\n",
       "      <td>0</td>\n",
       "      <td>1</td>\n",
       "      <td>1</td>\n",
       "    </tr>\n",
       "    <tr>\n",
       "      <th>69885</th>\n",
       "      <td>61.0</td>\n",
       "      <td>2</td>\n",
       "      <td>166</td>\n",
       "      <td>78.0</td>\n",
       "      <td>170</td>\n",
       "      <td>1000</td>\n",
       "      <td>1</td>\n",
       "      <td>1</td>\n",
       "      <td>0</td>\n",
       "      <td>0</td>\n",
       "      <td>0</td>\n",
       "      <td>0</td>\n",
       "    </tr>\n",
       "    <tr>\n",
       "      <th>69967</th>\n",
       "      <td>59.0</td>\n",
       "      <td>2</td>\n",
       "      <td>168</td>\n",
       "      <td>63.0</td>\n",
       "      <td>140</td>\n",
       "      <td>1000</td>\n",
       "      <td>1</td>\n",
       "      <td>1</td>\n",
       "      <td>0</td>\n",
       "      <td>0</td>\n",
       "      <td>1</td>\n",
       "      <td>1</td>\n",
       "    </tr>\n",
       "    <tr>\n",
       "      <th>69996</th>\n",
       "      <td>62.0</td>\n",
       "      <td>1</td>\n",
       "      <td>158</td>\n",
       "      <td>126.0</td>\n",
       "      <td>140</td>\n",
       "      <td>90</td>\n",
       "      <td>2</td>\n",
       "      <td>2</td>\n",
       "      <td>0</td>\n",
       "      <td>0</td>\n",
       "      <td>1</td>\n",
       "      <td>1</td>\n",
       "    </tr>\n",
       "  </tbody>\n",
       "</table>\n",
       "<p>2020 rows × 12 columns</p>\n",
       "</div>"
      ],
      "text/plain": [
       "        age  gender  height  weight  ap_hi  ...  gluc  smoke  alco  active  cardio\n",
       "224    60.0       2      76    55.0    120  ...     1      0     0       1       0\n",
       "228    48.0       2     183    98.0    160  ...     2      1     0       1       1\n",
       "241    60.0       2     157    60.0    160  ...     1      0     0       0       1\n",
       "260    50.0       1     150    83.0    140  ...     1      0     0       1       1\n",
       "329    64.0       1     176    63.0    160  ...     2      0     0       0       1\n",
       "...     ...     ...     ...     ...    ...  ...   ...    ...   ...     ...     ...\n",
       "69872  60.0       1     152    56.0    160  ...     1      0     0       1       1\n",
       "69878  58.0       2     168    95.0    160  ...     1      0     0       1       1\n",
       "69885  61.0       2     166    78.0    170  ...     1      0     0       0       0\n",
       "69967  59.0       2     168    63.0    140  ...     1      0     0       1       1\n",
       "69996  62.0       1     158   126.0    140  ...     2      0     0       1       1\n",
       "\n",
       "[2020 rows x 12 columns]"
      ]
     },
     "execution_count": 16,
     "metadata": {},
     "output_type": "execute_result"
    }
   ],
   "source": [
    "dataset_outlier = df.loc[(min_height) | (max_height) | (min_weight) | (max_weight) | (max_ap_hi) | (min_ap_hi) | (max_ap_lo) | (min_ap_lo)]\n",
    "dataset_outlier"
   ]
  },
  {
   "cell_type": "markdown",
   "metadata": {
    "id": "Wv-hCnoallbr"
   },
   "source": [
    "sekitar 2020 data outlier yang berhasil kita kumpulkan.\n",
    "\n",
    "\n",
    "Selanjutnya kita akan melihat besaran label pada outlier data kita"
   ]
  },
  {
   "cell_type": "code",
   "execution_count": 17,
   "metadata": {
    "colab": {
     "base_uri": "https://localhost:8080/",
     "height": 330
    },
    "id": "-d9E3dmyl4Jx",
    "outputId": "5beab84e-51b7-48f2-c060-c10ea86fa67a"
   },
   "outputs": [
    {
     "data": {
      "text/plain": [
       "1    1462\n",
       "0     558\n",
       "Name: cardio, dtype: int64"
      ]
     },
     "execution_count": 17,
     "metadata": {},
     "output_type": "execute_result"
    },
    {
     "data": {
      "image/png": "[encoded data removed]",
      "text/plain": [
       "<Figure size 432x288 with 1 Axes>"
      ]
     },
     "metadata": {
      "needs_background": "light"
     },
     "output_type": "display_data"
    }
   ],
   "source": [
    "cardio_outlier = dataset_outlier['cardio'].value_counts()\n",
    "cardio_outlier.plot(kind='bar', title='cardio')\n",
    "\n",
    "cardio_outlier"
   ]
  },
  {
   "cell_type": "markdown",
   "metadata": {
    "id": "wAZ6QPhMTzB0"
   },
   "source": [
    "menghapus data outlier. kita disini bisa memkai fungsi drop."
   ]
  },
  {
   "cell_type": "code",
   "execution_count": 18,
   "metadata": {
    "colab": {
     "base_uri": "https://localhost:8080/",
     "height": 424
    },
    "id": "f2JiucYcm1jY",
    "outputId": "f20c3d28-7d1a-424e-bcb1-5a280543e00b"
   },
   "outputs": [
    {
     "data": {
      "text/html": [
       "<div>\n",
       "<style scoped>\n",
       "    .dataframe tbody tr th:only-of-type {\n",
       "        vertical-align: middle;\n",
       "    }\n",
       "\n",
       "    .dataframe tbody tr th {\n",
       "        vertical-align: top;\n",
       "    }\n",
       "\n",
       "    .dataframe thead th {\n",
       "        text-align: right;\n",
       "    }\n",
       "</style>\n",
       "<table border=\"1\" class=\"dataframe\">\n",
       "  <thead>\n",
       "    <tr style=\"text-align: right;\">\n",
       "      <th></th>\n",
       "      <th>age</th>\n",
       "      <th>gender</th>\n",
       "      <th>height</th>\n",
       "      <th>weight</th>\n",
       "      <th>ap_hi</th>\n",
       "      <th>ap_lo</th>\n",
       "      <th>cholesterol</th>\n",
       "      <th>gluc</th>\n",
       "      <th>smoke</th>\n",
       "      <th>alco</th>\n",
       "      <th>active</th>\n",
       "      <th>cardio</th>\n",
       "    </tr>\n",
       "  </thead>\n",
       "  <tbody>\n",
       "    <tr>\n",
       "      <th>0</th>\n",
       "      <td>50.0</td>\n",
       "      <td>2</td>\n",
       "      <td>168</td>\n",
       "      <td>62.0</td>\n",
       "      <td>110</td>\n",
       "      <td>80</td>\n",
       "      <td>1</td>\n",
       "      <td>1</td>\n",
       "      <td>0</td>\n",
       "      <td>0</td>\n",
       "      <td>1</td>\n",
       "      <td>0</td>\n",
       "    </tr>\n",
       "    <tr>\n",
       "      <th>1</th>\n",
       "      <td>55.0</td>\n",
       "      <td>1</td>\n",
       "      <td>156</td>\n",
       "      <td>85.0</td>\n",
       "      <td>140</td>\n",
       "      <td>90</td>\n",
       "      <td>3</td>\n",
       "      <td>1</td>\n",
       "      <td>0</td>\n",
       "      <td>0</td>\n",
       "      <td>1</td>\n",
       "      <td>1</td>\n",
       "    </tr>\n",
       "    <tr>\n",
       "      <th>2</th>\n",
       "      <td>52.0</td>\n",
       "      <td>1</td>\n",
       "      <td>165</td>\n",
       "      <td>64.0</td>\n",
       "      <td>130</td>\n",
       "      <td>70</td>\n",
       "      <td>3</td>\n",
       "      <td>1</td>\n",
       "      <td>0</td>\n",
       "      <td>0</td>\n",
       "      <td>0</td>\n",
       "      <td>1</td>\n",
       "    </tr>\n",
       "    <tr>\n",
       "      <th>3</th>\n",
       "      <td>48.0</td>\n",
       "      <td>2</td>\n",
       "      <td>169</td>\n",
       "      <td>82.0</td>\n",
       "      <td>150</td>\n",
       "      <td>100</td>\n",
       "      <td>1</td>\n",
       "      <td>1</td>\n",
       "      <td>0</td>\n",
       "      <td>0</td>\n",
       "      <td>1</td>\n",
       "      <td>1</td>\n",
       "    </tr>\n",
       "    <tr>\n",
       "      <th>4</th>\n",
       "      <td>48.0</td>\n",
       "      <td>1</td>\n",
       "      <td>156</td>\n",
       "      <td>56.0</td>\n",
       "      <td>100</td>\n",
       "      <td>60</td>\n",
       "      <td>1</td>\n",
       "      <td>1</td>\n",
       "      <td>0</td>\n",
       "      <td>0</td>\n",
       "      <td>0</td>\n",
       "      <td>0</td>\n",
       "    </tr>\n",
       "    <tr>\n",
       "      <th>...</th>\n",
       "      <td>...</td>\n",
       "      <td>...</td>\n",
       "      <td>...</td>\n",
       "      <td>...</td>\n",
       "      <td>...</td>\n",
       "      <td>...</td>\n",
       "      <td>...</td>\n",
       "      <td>...</td>\n",
       "      <td>...</td>\n",
       "      <td>...</td>\n",
       "      <td>...</td>\n",
       "      <td>...</td>\n",
       "    </tr>\n",
       "    <tr>\n",
       "      <th>69994</th>\n",
       "      <td>58.0</td>\n",
       "      <td>1</td>\n",
       "      <td>165</td>\n",
       "      <td>80.0</td>\n",
       "      <td>150</td>\n",
       "      <td>80</td>\n",
       "      <td>1</td>\n",
       "      <td>1</td>\n",
       "      <td>0</td>\n",
       "      <td>0</td>\n",
       "      <td>1</td>\n",
       "      <td>1</td>\n",
       "    </tr>\n",
       "    <tr>\n",
       "      <th>69995</th>\n",
       "      <td>53.0</td>\n",
       "      <td>2</td>\n",
       "      <td>168</td>\n",
       "      <td>76.0</td>\n",
       "      <td>120</td>\n",
       "      <td>80</td>\n",
       "      <td>1</td>\n",
       "      <td>1</td>\n",
       "      <td>1</td>\n",
       "      <td>0</td>\n",
       "      <td>1</td>\n",
       "      <td>0</td>\n",
       "    </tr>\n",
       "    <tr>\n",
       "      <th>69997</th>\n",
       "      <td>52.0</td>\n",
       "      <td>2</td>\n",
       "      <td>183</td>\n",
       "      <td>105.0</td>\n",
       "      <td>180</td>\n",
       "      <td>90</td>\n",
       "      <td>3</td>\n",
       "      <td>1</td>\n",
       "      <td>0</td>\n",
       "      <td>1</td>\n",
       "      <td>0</td>\n",
       "      <td>1</td>\n",
       "    </tr>\n",
       "    <tr>\n",
       "      <th>69998</th>\n",
       "      <td>61.0</td>\n",
       "      <td>1</td>\n",
       "      <td>163</td>\n",
       "      <td>72.0</td>\n",
       "      <td>135</td>\n",
       "      <td>80</td>\n",
       "      <td>1</td>\n",
       "      <td>2</td>\n",
       "      <td>0</td>\n",
       "      <td>0</td>\n",
       "      <td>0</td>\n",
       "      <td>1</td>\n",
       "    </tr>\n",
       "    <tr>\n",
       "      <th>69999</th>\n",
       "      <td>56.0</td>\n",
       "      <td>1</td>\n",
       "      <td>170</td>\n",
       "      <td>72.0</td>\n",
       "      <td>120</td>\n",
       "      <td>80</td>\n",
       "      <td>2</td>\n",
       "      <td>1</td>\n",
       "      <td>0</td>\n",
       "      <td>0</td>\n",
       "      <td>1</td>\n",
       "      <td>0</td>\n",
       "    </tr>\n",
       "  </tbody>\n",
       "</table>\n",
       "<p>64164 rows × 12 columns</p>\n",
       "</div>"
      ],
      "text/plain": [
       "        age  gender  height  weight  ap_hi  ...  gluc  smoke  alco  active  cardio\n",
       "0      50.0       2     168    62.0    110  ...     1      0     0       1       0\n",
       "1      55.0       1     156    85.0    140  ...     1      0     0       1       1\n",
       "2      52.0       1     165    64.0    130  ...     1      0     0       0       1\n",
       "3      48.0       2     169    82.0    150  ...     1      0     0       1       1\n",
       "4      48.0       1     156    56.0    100  ...     1      0     0       0       0\n",
       "...     ...     ...     ...     ...    ...  ...   ...    ...   ...     ...     ...\n",
       "69994  58.0       1     165    80.0    150  ...     1      0     0       1       1\n",
       "69995  53.0       2     168    76.0    120  ...     1      1     0       1       0\n",
       "69997  52.0       2     183   105.0    180  ...     1      0     1       0       1\n",
       "69998  61.0       1     163    72.0    135  ...     2      0     0       0       1\n",
       "69999  56.0       1     170    72.0    120  ...     1      0     0       1       0\n",
       "\n",
       "[64164 rows x 12 columns]"
      ]
     },
     "execution_count": 18,
     "metadata": {},
     "output_type": "execute_result"
    }
   ],
   "source": [
    "df = df.drop(dataset_outlier.index)\n",
    "df"
   ]
  },
  {
   "cell_type": "code",
   "execution_count": 19,
   "metadata": {
    "colab": {
     "base_uri": "https://localhost:8080/",
     "height": 312
    },
    "id": "xayFjgZXs1W8",
    "outputId": "9ee1588b-391d-4041-c543-85ef17f050bb"
   },
   "outputs": [
    {
     "data": {
      "text/plain": [
       "Text(0.5, 1.0, 'distribution of Height after cleaning')"
      ]
     },
     "execution_count": 19,
     "metadata": {},
     "output_type": "execute_result"
    },
    {
     "data": {
      "image/png": "[encoded data removed]",
      "text/plain": [
       "<Figure size 432x288 with 1 Axes>"
      ]
     },
     "metadata": {
      "needs_background": "light"
     },
     "output_type": "display_data"
    }
   ],
   "source": [
    "sns.boxplot(x=df['height'])\n",
    "plt.title('distribution of Height after cleaning')"
   ]
  },
  {
   "cell_type": "code",
   "execution_count": 20,
   "metadata": {
    "colab": {
     "base_uri": "https://localhost:8080/",
     "height": 312
    },
    "id": "c6sgMQGT43nE",
    "outputId": "85144634-9c06-45a7-c780-4726aff0340c"
   },
   "outputs": [
    {
     "data": {
      "text/plain": [
       "Text(0.5, 1.0, 'distribution of Weight after cleaning')"
      ]
     },
     "execution_count": 20,
     "metadata": {},
     "output_type": "execute_result"
    },
    {
     "data": {
      "image/png": "[encoded data removed]",
      "text/plain": [
       "<Figure size 432x288 with 1 Axes>"
      ]
     },
     "metadata": {
      "needs_background": "light"
     },
     "output_type": "display_data"
    }
   ],
   "source": [
    "sns.boxplot(x=df['weight'])\n",
    "plt.title('distribution of Weight after cleaning')"
   ]
  },
  {
   "cell_type": "markdown",
   "metadata": {
    "id": "menKhMoBddGB"
   },
   "source": [
    "Cek jumlah target"
   ]
  },
  {
   "cell_type": "code",
   "execution_count": 21,
   "metadata": {
    "colab": {
     "base_uri": "https://localhost:8080/",
     "height": 313
    },
    "id": "g0pfDdWU47gv",
    "outputId": "24bd2204-d432-4164-9c80-9116c729dff5"
   },
   "outputs": [
    {
     "data": {
      "text/plain": [
       "Text(0.5, 1.0, 'distribution of Systolic after cleaning')"
      ]
     },
     "execution_count": 21,
     "metadata": {},
     "output_type": "execute_result"
    },
    {
     "data": {
      "image/png": "[encoded data removed]",
      "text/plain": [
       "<Figure size 432x288 with 1 Axes>"
      ]
     },
     "metadata": {
      "needs_background": "light"
     },
     "output_type": "display_data"
    }
   ],
   "source": [
    "sns.boxplot(x=df['ap_hi'])\n",
    "plt.title('distribution of Systolic after cleaning')"
   ]
  },
  {
   "cell_type": "code",
   "execution_count": 22,
   "metadata": {
    "colab": {
     "base_uri": "https://localhost:8080/",
     "height": 313
    },
    "id": "M1yauLjI5H5m",
    "outputId": "c61ad838-f521-4dc9-b8a7-490c2ef7d0cf"
   },
   "outputs": [
    {
     "data": {
      "text/plain": [
       "Text(0.5, 1.0, 'distribution of Dyastolic after cleaning')"
      ]
     },
     "execution_count": 22,
     "metadata": {},
     "output_type": "execute_result"
    },
    {
     "data": {
      "image/png": "[encoded data removed]",
      "text/plain": [
       "<Figure size 432x288 with 1 Axes>"
      ]
     },
     "metadata": {
      "needs_background": "light"
     },
     "output_type": "display_data"
    }
   ],
   "source": [
    "sns.boxplot(x=df['ap_lo'])\n",
    "plt.title('distribution of Dyastolic after cleaning')"
   ]
  },
  {
   "cell_type": "code",
   "execution_count": 23,
   "metadata": {
    "colab": {
     "base_uri": "https://localhost:8080/",
     "height": 330
    },
    "id": "x2-ELc1twxMq",
    "outputId": "13286f83-80a5-4c57-91bb-d6d6525ec5d8"
   },
   "outputs": [
    {
     "data": {
      "text/plain": [
       "1    32531\n",
       "0    31633\n",
       "Name: cardio, dtype: int64"
      ]
     },
     "execution_count": 23,
     "metadata": {},
     "output_type": "execute_result"
    },
    {
     "data": {
      "image/png": "[encoded data removed]",
      "text/plain": [
       "<Figure size 432x288 with 1 Axes>"
      ]
     },
     "metadata": {
      "needs_background": "light"
     },
     "output_type": "display_data"
    }
   ],
   "source": [
    "cardio = df['cardio'].value_counts()\n",
    "cardio.plot(kind='bar', title='cardio')\n",
    "cardio"
   ]
  },
  {
   "cell_type": "markdown",
   "metadata": {
    "id": "ZyxsZ6wEw1mf"
   },
   "source": [
    "dataset sudah kita bersikan dari data yang ambigu"
   ]
  },
  {
   "cell_type": "markdown",
   "metadata": {
    "id": "zfv8LRITw_R0"
   },
   "source": [
    "### Univariate Analysis"
   ]
  },
  {
   "cell_type": "markdown",
   "metadata": {
    "id": "ANiOxaJSxExc"
   },
   "source": [
    "Membagi data menjadi data numerik dan data kategorical"
   ]
  },
  {
   "cell_type": "code",
   "execution_count": 24,
   "metadata": {
    "id": "DcCNDSXbw5uN"
   },
   "outputs": [],
   "source": [
    "numerical_features = ['age','height', 'weight', 'ap_hi', 'ap_lo']\n",
    "categorical_features = ['gender', 'cholesterol', 'gluc', 'smoke', 'alco', 'active', 'cardio']"
   ]
  },
  {
   "cell_type": "markdown",
   "metadata": {
    "id": "DJ1cR9EyyqH4"
   },
   "source": [
    "Categorical Feature\n",
    "\n",
    "melakukan analysis pada data kategori dengan visualisasi data"
   ]
  },
  {
   "cell_type": "markdown",
   "metadata": {
    "id": "WSnfHP_RzD9W"
   },
   "source": [
    "\n",
    "\n",
    "*   gender\n",
    "\n",
    "membandingkan pengidap Cardiovascular berdasarkan gender\n"
   ]
  },
  {
   "cell_type": "code",
   "execution_count": 25,
   "metadata": {
    "colab": {
     "base_uri": "https://localhost:8080/",
     "height": 276
    },
    "id": "DfPmGSvQyvsn",
    "outputId": "cc6ac36a-7b48-4667-9cee-1bfd006285ca"
   },
   "outputs": [
    {
     "data": {
      "image/png": "[encoded data removed]",
      "text/plain": [
       "<Figure size 432x288 with 1 Axes>"
      ]
     },
     "metadata": {
      "needs_background": "light"
     },
     "output_type": "display_data"
    }
   ],
   "source": [
    "\n",
    "pd.crosstab(df['cardio'], df['gender']).plot(kind = 'bar')\n",
    "plt.xlabel('0 = no heart disease, 1 = heart disease')\n",
    "plt.legend(['woman','man'])\n",
    "plt.show()"
   ]
  },
  {
   "cell_type": "code",
   "execution_count": 26,
   "metadata": {
    "colab": {
     "base_uri": "https://localhost:8080/",
     "height": 330
    },
    "id": "yq-NK8nU69ji",
    "outputId": "a2598026-c3b5-45de-8557-3baa14875cbe"
   },
   "outputs": [
    {
     "name": "stdout",
     "output_type": "stream",
     "text": [
      "   jumlah sampel  persentase\n",
      "1          41306        64.4\n",
      "2          22858        35.6\n"
     ]
    },
    {
     "data": {
      "image/png": "[encoded data removed]",
      "text/plain": [
       "<Figure size 432x288 with 1 Axes>"
      ]
     },
     "metadata": {
      "needs_background": "light"
     },
     "output_type": "display_data"
    }
   ],
   "source": [
    "feature = categorical_features[0]\n",
    "count = df[feature].value_counts()\n",
    "percent = 100*df[feature].value_counts(normalize=True)\n",
    "df_new = pd.DataFrame({'jumlah sampel':count, 'persentase':percent.round(1)})\n",
    "print(df_new)\n",
    "count.plot(kind='bar', title=feature);"
   ]
  },
  {
   "cell_type": "markdown",
   "metadata": {
    "id": "Pdn86rhIzVKc"
   },
   "source": [
    "Dilihat dari data bahwa 64,4% dari dataset berjenis kelamin perempuan dan 35 % laki-laki\n",
    "\n",
    "dengan jumlah penderita CVD lebih banyak perempuan"
   ]
  },
  {
   "cell_type": "markdown",
   "metadata": {
    "id": "aAxALE6DzGZl"
   },
   "source": [
    "\n",
    "\n",
    "*   cholesterol\n",
    "\n"
   ]
  },
  {
   "cell_type": "code",
   "execution_count": 27,
   "metadata": {
    "colab": {
     "base_uri": "https://localhost:8080/",
     "height": 384
    },
    "id": "ebjOIW19zJQJ",
    "outputId": "bdc5acef-0aa8-41c2-9e9a-3bb100f03f89"
   },
   "outputs": [
    {
     "data": {
      "image/png": "[encoded data removed]",
      "text/plain": [
       "<Figure size 648x432 with 1 Axes>"
      ]
     },
     "metadata": {
      "needs_background": "light"
     },
     "output_type": "display_data"
    }
   ],
   "source": [
    "\n",
    "pd.crosstab(df['cardio'], df['cholesterol']).plot(kind = 'bar', figsize=(9,6))\n",
    "plt.xlabel('1: normal, 2: above normal, 3: well above normal')\n",
    "plt.legend(['normal','above normal', 'well above normal'])\n",
    "plt.show()"
   ]
  },
  {
   "cell_type": "code",
   "execution_count": 28,
   "metadata": {
    "colab": {
     "base_uri": "https://localhost:8080/",
     "height": 348
    },
    "id": "IYvYefmI8Pgi",
    "outputId": "1d5b894d-81e7-445a-b188-8455ce44debd"
   },
   "outputs": [
    {
     "name": "stdout",
     "output_type": "stream",
     "text": [
      "   jumlah sampel  persentase\n",
      "1          47350        73.8\n",
      "2           9116        14.2\n",
      "3           7698        12.0\n"
     ]
    },
    {
     "data": {
      "image/png": "[encoded data removed]",
      "text/plain": [
       "<Figure size 432x288 with 1 Axes>"
      ]
     },
     "metadata": {
      "needs_background": "light"
     },
     "output_type": "display_data"
    }
   ],
   "source": [
    "feature = categorical_features[1]\n",
    "count = df[feature].value_counts()\n",
    "percent = 100*df[feature].value_counts(normalize=True)\n",
    "df_new = pd.DataFrame({'jumlah sampel':count, 'persentase':percent.round(1)})\n",
    "print(df_new)\n",
    "count.plot(kind='bar', title=feature);"
   ]
  },
  {
   "cell_type": "markdown",
   "metadata": {
    "id": "xiuWg86hzsia"
   },
   "source": [
    "pada kolom cholesterol, dapat dilihat bahwa 73,8 % tidak mempunyai masalah pada kolesterol, tetapi pada penderita CVD dibarengi dengan peningkatan pada jumlah pengidap kolesterol. "
   ]
  },
  {
   "cell_type": "markdown",
   "metadata": {
    "id": "WDHllY-mz9-2"
   },
   "source": [
    "\n",
    "\n",
    "*   gluc\n",
    "\n"
   ]
  },
  {
   "cell_type": "code",
   "execution_count": 29,
   "metadata": {
    "colab": {
     "base_uri": "https://localhost:8080/",
     "height": 384
    },
    "id": "oOxbQ7qV8qb8",
    "outputId": "35c838a4-646c-4854-fc0b-b03e8e8c005b"
   },
   "outputs": [
    {
     "data": {
      "image/png": "[encoded data removed]",
      "text/plain": [
       "<Figure size 648x432 with 1 Axes>"
      ]
     },
     "metadata": {
      "needs_background": "light"
     },
     "output_type": "display_data"
    }
   ],
   "source": [
    "pd.crosstab(df['cardio'], df['gluc']).plot(kind = 'bar', figsize=(9,6))\n",
    "plt.xlabel('1: normal, 2: above normal, 3: well above normal')\n",
    "plt.legend(['normal','above normal', 'well above normal'])\n",
    "plt.show()"
   ]
  },
  {
   "cell_type": "code",
   "execution_count": 30,
   "metadata": {
    "colab": {
     "base_uri": "https://localhost:8080/",
     "height": 348
    },
    "id": "vt5oWDcTz9cm",
    "outputId": "d24c73a5-54c9-49aa-b225-9c9120d2aac4"
   },
   "outputs": [
    {
     "name": "stdout",
     "output_type": "stream",
     "text": [
      "   jumlah sampel  persentase\n",
      "1          54124        84.4\n",
      "3           5085         7.9\n",
      "2           4955         7.7\n"
     ]
    },
    {
     "data": {
      "image/png": "[encoded data removed]",
      "text/plain": [
       "<Figure size 432x288 with 1 Axes>"
      ]
     },
     "metadata": {
      "needs_background": "light"
     },
     "output_type": "display_data"
    }
   ],
   "source": [
    "feature = categorical_features[2]\n",
    "count = df[feature].value_counts()\n",
    "percent = 100*df[feature].value_counts(normalize=True)\n",
    "df_new = pd.DataFrame({'jumlah sampel':count, 'persentase':percent.round(1)})\n",
    "print(df_new)\n",
    "count.plot(kind='bar', title=feature);"
   ]
  },
  {
   "cell_type": "markdown",
   "metadata": {
    "id": "U8cNXZoQ1mhc"
   },
   "source": [
    "Data berupa 84,4% dengan penderita kadar glucosa yang normal\n",
    "\n",
    "tetapi pada data menunjukkan pada penderita CVD, ada peningkatan glucosa  "
   ]
  },
  {
   "cell_type": "markdown",
   "metadata": {
    "id": "OjAgyOhv12dF"
   },
   "source": [
    "\n",
    "\n",
    "*   smoke\n",
    "\n"
   ]
  },
  {
   "cell_type": "code",
   "execution_count": 31,
   "metadata": {
    "colab": {
     "base_uri": "https://localhost:8080/",
     "height": 384
    },
    "id": "jIAp6L-9_xN-",
    "outputId": "2f5bc89e-f65e-47b0-925d-28291f45bdc9"
   },
   "outputs": [
    {
     "data": {
      "image/png": "[encoded data removed]",
      "text/plain": [
       "<Figure size 648x432 with 1 Axes>"
      ]
     },
     "metadata": {
      "needs_background": "light"
     },
     "output_type": "display_data"
    }
   ],
   "source": [
    "pd.crosstab(df['cardio'], df['smoke']).plot(kind = 'bar', figsize=(9,6))\n",
    "plt.xlabel('0: no smoke, 1: smoke')\n",
    "plt.legend(['no smoke','smoke'])\n",
    "plt.show()"
   ]
  },
  {
   "cell_type": "code",
   "execution_count": 32,
   "metadata": {
    "colab": {
     "base_uri": "https://localhost:8080/",
     "height": 330
    },
    "id": "Eb-WD4M817Wv",
    "outputId": "b70089ef-1722-4c43-d72c-4b7188a37ce6"
   },
   "outputs": [
    {
     "name": "stdout",
     "output_type": "stream",
     "text": [
      "   jumlah sampel  persentase\n",
      "0          58228        90.7\n",
      "1           5936         9.3\n"
     ]
    },
    {
     "data": {
      "image/png": "[encoded data removed]",
      "text/plain": [
       "<Figure size 432x288 with 1 Axes>"
      ]
     },
     "metadata": {
      "needs_background": "light"
     },
     "output_type": "display_data"
    }
   ],
   "source": [
    "feature = categorical_features[3]\n",
    "count = df[feature].value_counts()\n",
    "percent = 100*df[feature].value_counts(normalize=True)\n",
    "df_new = pd.DataFrame({'jumlah sampel':count, 'persentase':percent.round(1)})\n",
    "print(df_new)\n",
    "count.plot(kind='bar', title=feature);"
   ]
  },
  {
   "cell_type": "markdown",
   "metadata": {
    "id": "JVqd2IH02MpU"
   },
   "source": [
    "data sampel menunjukkan 90,7% tidak merokok, dan merokok tidak berkontribusi pada data yang signifikan"
   ]
  },
  {
   "cell_type": "markdown",
   "metadata": {
    "id": "9_cKuXuK2RjE"
   },
   "source": [
    "\n",
    "\n",
    "*   alco\n",
    "\n"
   ]
  },
  {
   "cell_type": "code",
   "execution_count": 33,
   "metadata": {
    "colab": {
     "base_uri": "https://localhost:8080/",
     "height": 384
    },
    "id": "yWDbWP6lAfTd",
    "outputId": "7d058b0e-b66f-45ba-81b6-ce67afce2daa"
   },
   "outputs": [
    {
     "data": {
      "image/png": "[encoded data removed]",
      "text/plain": [
       "<Figure size 648x432 with 1 Axes>"
      ]
     },
     "metadata": {
      "needs_background": "light"
     },
     "output_type": "display_data"
    }
   ],
   "source": [
    "pd.crosstab(df['cardio'], df['alco']).plot(kind = 'bar', figsize=(9,6))\n",
    "plt.xlabel('0: no alcohol, 1: alcohol')\n",
    "plt.legend(['no alcohol','alcohol'])\n",
    "plt.show()"
   ]
  },
  {
   "cell_type": "code",
   "execution_count": 34,
   "metadata": {
    "colab": {
     "base_uri": "https://localhost:8080/",
     "height": 330
    },
    "id": "8YDjVLGc2KfK",
    "outputId": "07f61853-5183-40d5-ad96-6f6ae5c3f169"
   },
   "outputs": [
    {
     "name": "stdout",
     "output_type": "stream",
     "text": [
      "   jumlah sampel  persentase\n",
      "0          60543        94.4\n",
      "1           3621         5.6\n"
     ]
    },
    {
     "data": {
      "image/png": "[encoded data removed]",
      "text/plain": [
       "<Figure size 432x288 with 1 Axes>"
      ]
     },
     "metadata": {
      "needs_background": "light"
     },
     "output_type": "display_data"
    }
   ],
   "source": [
    "feature = categorical_features[4]\n",
    "count = df[feature].value_counts()\n",
    "percent = 100*df[feature].value_counts(normalize=True)\n",
    "df_new = pd.DataFrame({'jumlah sampel':count, 'persentase':percent.round(1)})\n",
    "print(df_new)\n",
    "count.plot(kind='bar', title=feature);"
   ]
  },
  {
   "cell_type": "markdown",
   "metadata": {
    "id": "CCImdk0N2hCs"
   },
   "source": [
    "data 94,4% tidak minum alkohol, dan kurang dari 300 orang penderita CVD akibat mengkonsumsi alkohol"
   ]
  },
  {
   "cell_type": "markdown",
   "metadata": {
    "id": "ObcAlc7z2oYF"
   },
   "source": [
    "\n",
    "\n",
    "*   active\n",
    "\n"
   ]
  },
  {
   "cell_type": "code",
   "execution_count": 35,
   "metadata": {
    "colab": {
     "base_uri": "https://localhost:8080/",
     "height": 384
    },
    "id": "RXZHLMKbBETN",
    "outputId": "07825db5-e010-4856-fbad-26bc09343a5b"
   },
   "outputs": [
    {
     "data": {
      "image/png": "[encoded data removed]",
      "text/plain": [
       "<Figure size 648x432 with 1 Axes>"
      ]
     },
     "metadata": {
      "needs_background": "light"
     },
     "output_type": "display_data"
    }
   ],
   "source": [
    "pd.crosstab(df['cardio'], df['active']).plot(kind = 'bar', figsize=(9,6))\n",
    "plt.xlabel('0: no active, 1: active')\n",
    "plt.legend(['no active','active'])\n",
    "plt.show()"
   ]
  },
  {
   "cell_type": "code",
   "execution_count": 36,
   "metadata": {
    "colab": {
     "base_uri": "https://localhost:8080/",
     "height": 330
    },
    "id": "PZFk-MsS2aJk",
    "outputId": "2f2a2ec1-79e5-4ff2-b6d8-d2a0e05ab686"
   },
   "outputs": [
    {
     "name": "stdout",
     "output_type": "stream",
     "text": [
      "   jumlah sampel  persentase\n",
      "1          51161        79.7\n",
      "0          13003        20.3\n"
     ]
    },
    {
     "data": {
      "image/png": "[encoded data removed]",
      "text/plain": [
       "<Figure size 432x288 with 1 Axes>"
      ]
     },
     "metadata": {
      "needs_background": "light"
     },
     "output_type": "display_data"
    }
   ],
   "source": [
    "feature = categorical_features[5]\n",
    "count = df[feature].value_counts()\n",
    "percent = 100*df[feature].value_counts(normalize=True)\n",
    "df_new = pd.DataFrame({'jumlah sampel':count, 'persentase':percent.round(1)})\n",
    "print(df_new)\n",
    "count.plot(kind='bar', title=feature);"
   ]
  },
  {
   "cell_type": "markdown",
   "metadata": {
    "id": "KZCBdoPw267C"
   },
   "source": [
    "dapat disimpulkan bahwa punya kegiatan yang aktif tidak terlalu banyak mempengaruhi sesorang terkena serangan jantung"
   ]
  },
  {
   "cell_type": "markdown",
   "metadata": {
    "id": "8otokDl29igF"
   },
   "source": [
    "Berdasarkan visualisasi data tersebut diatas dapat disimpulkan bahwa kenaikan kolesterol dan glukosa dalam darah memberikan efek pada kemungkinan terjadi serangan jantung pada pasien"
   ]
  },
  {
   "cell_type": "markdown",
   "metadata": {
    "id": "7POekKBjsFHU"
   },
   "source": [
    "\n",
    "\n",
    ">Selanjutnya kita akan observasi penyakit jantung berdasarkan umur, tinggi berat, dan tekanan darah\n",
    "\n"
   ]
  },
  {
   "cell_type": "code",
   "execution_count": 37,
   "metadata": {
    "colab": {
     "base_uri": "https://localhost:8080/",
     "height": 296
    },
    "id": "3M0F0nVzpt0H",
    "outputId": "582fffc5-c938-46ef-bc48-c5dae09504e1"
   },
   "outputs": [
    {
     "name": "stdout",
     "output_type": "stream",
     "text": [
      "Observations cardio by age\n"
     ]
    },
    {
     "data": {
      "image/png": "[encoded data removed]",
      "text/plain": [
       "<Figure size 432x288 with 1 Axes>"
      ]
     },
     "metadata": {
      "needs_background": "light"
     },
     "output_type": "display_data"
    }
   ],
   "source": [
    "sns.violinplot(x=df.cardio, y= df.age)\n",
    "print(\"Observations cardio by age\");"
   ]
  },
  {
   "cell_type": "code",
   "execution_count": 38,
   "metadata": {
    "colab": {
     "base_uri": "https://localhost:8080/",
     "height": 296
    },
    "id": "oiofvV2wrxW1",
    "outputId": "15294d5b-1dcf-41f7-9c20-6408b8f02001"
   },
   "outputs": [
    {
     "name": "stdout",
     "output_type": "stream",
     "text": [
      "Observations cardio by height\n"
     ]
    },
    {
     "data": {
      "image/png": "[encoded data removed]",
      "text/plain": [
       "<Figure size 432x288 with 1 Axes>"
      ]
     },
     "metadata": {
      "needs_background": "light"
     },
     "output_type": "display_data"
    }
   ],
   "source": [
    "sns.violinplot(x=df.cardio, y= df.height)\n",
    "print(\"Observations cardio by height\");"
   ]
  },
  {
   "cell_type": "code",
   "execution_count": 39,
   "metadata": {
    "colab": {
     "base_uri": "https://localhost:8080/",
     "height": 296
    },
    "id": "z5HS5oJ9sWy5",
    "outputId": "18241a0f-502a-491d-82f9-212c6a01774f"
   },
   "outputs": [
    {
     "name": "stdout",
     "output_type": "stream",
     "text": [
      "Observations cardio by weight\n"
     ]
    },
    {
     "data": {
      "image/png": "[encoded data removed]",
      "text/plain": [
       "<Figure size 432x288 with 1 Axes>"
      ]
     },
     "metadata": {
      "needs_background": "light"
     },
     "output_type": "display_data"
    }
   ],
   "source": [
    "sns.violinplot(x=df.cardio, y= df.weight)\n",
    "print(\"Observations cardio by weight\");"
   ]
  },
  {
   "cell_type": "code",
   "execution_count": 40,
   "metadata": {
    "colab": {
     "base_uri": "https://localhost:8080/",
     "height": 297
    },
    "id": "r-07OSHvsfVM",
    "outputId": "fbede3d7-c1a4-48c9-f569-c48e23177038"
   },
   "outputs": [
    {
     "name": "stdout",
     "output_type": "stream",
     "text": [
      "Observations cardio by Systolic blood pressure\n"
     ]
    },
    {
     "data": {
      "image/png": "[encoded data removed]",
      "text/plain": [
       "<Figure size 432x288 with 1 Axes>"
      ]
     },
     "metadata": {
      "needs_background": "light"
     },
     "output_type": "display_data"
    }
   ],
   "source": [
    "sns.violinplot(x=df.cardio, y= df.ap_hi)\n",
    "print(\"Observations cardio by Systolic blood pressure\");"
   ]
  },
  {
   "cell_type": "code",
   "execution_count": 41,
   "metadata": {
    "colab": {
     "base_uri": "https://localhost:8080/",
     "height": 296
    },
    "id": "Jqw1Gb17sn0B",
    "outputId": "e1c4680a-65be-404d-cce0-e8398ea5ff39"
   },
   "outputs": [
    {
     "name": "stdout",
     "output_type": "stream",
     "text": [
      "Observations cardio by Dyastolic blood pressure\n"
     ]
    },
    {
     "data": {
      "image/png": "[encoded data removed]",
      "text/plain": [
       "<Figure size 432x288 with 1 Axes>"
      ]
     },
     "metadata": {
      "needs_background": "light"
     },
     "output_type": "display_data"
    }
   ],
   "source": [
    "sns.violinplot(x=df.cardio, y= df.ap_lo)\n",
    "print(\"Observations cardio by Dyastolic blood pressure\");"
   ]
  },
  {
   "cell_type": "markdown",
   "metadata": {
    "id": "BoUtt-fYswnl"
   },
   "source": [
    "Dari visualisasi tersebut dapat kita simpulkan bahwa penyakit jantung lebih banyak terjadi di umur lebi dari 50 tahun.\n",
    "\n",
    "Demikian juga pada tekanan darah yang lebih tinggi dapat membuat kemungkinan seseorang terkena serangan jantung lebih besar."
   ]
  },
  {
   "cell_type": "markdown",
   "metadata": {
    "id": "drooogiW4Tva"
   },
   "source": [
    "### Multivariate Analysis"
   ]
  },
  {
   "cell_type": "markdown",
   "metadata": {
    "id": "3j1I2qFs63JE"
   },
   "source": [
    "Corelation Score"
   ]
  },
  {
   "cell_type": "code",
   "execution_count": 42,
   "metadata": {
    "colab": {
     "base_uri": "https://localhost:8080/",
     "height": 538
    },
    "id": "qFLk-MHQ6jbf",
    "outputId": "f0d24736-306c-4fb9-8d5b-b38941bbf275"
   },
   "outputs": [
    {
     "data": {
      "image/png": "[encoded data removed]",
      "text/plain": [
       "<Figure size 792x648 with 2 Axes>"
      ]
     },
     "metadata": {
      "needs_background": "light"
     },
     "output_type": "display_data"
    }
   ],
   "source": [
    "corr = df.corr()\n",
    "cmap = sns.diverging_palette(220, 10, as_cmap=True)\n",
    "\n",
    "mask = np.zeros_like(corr, dtype=np.bool)\n",
    "mask[np.triu_indices_from(mask)] = True\n",
    "\n",
    "f, ax = plt.subplots(figsize=(11, 9))\n",
    "sns.heatmap(corr, mask=mask, cmap=cmap, vmax=.3, center=0,annot = True,\n",
    "            square=True, linewidths=.5, cbar_kws={\"shrink\": .5});"
   ]
  },
  {
   "cell_type": "markdown",
   "metadata": {
    "id": "2sXbv_TKt2-b"
   },
   "source": [
    "dari corelation metric tersebut dapat kita ketahui bahwa yang paling berperan menyebabkan sesorang terkena serangan jantung adalah umur, tekanan darah, kolesterol, dan berat badan."
   ]
  },
  {
   "cell_type": "markdown",
   "metadata": {
    "id": "Srn8HTOs-dIG"
   },
   "source": [
    "### Data Preocessing\n",
    "\n",
    "Setelah kita melihat dan mengamati persebaran data, kita akan melakukan penyetaraan data, yaitu proses untuk membuat nilai pada tiap kolom mempunyai nilai dalam rentang yang sama, sehingga model kita akan mudah melakukan proses training."
   ]
  },
  {
   "cell_type": "code",
   "execution_count": 43,
   "metadata": {
    "colab": {
     "base_uri": "https://localhost:8080/",
     "height": 206
    },
    "id": "5Ip3rsXJueA2",
    "outputId": "3e820072-70a1-4ca8-c024-8e02589e40e3"
   },
   "outputs": [
    {
     "data": {
      "text/html": [
       "<div>\n",
       "<style scoped>\n",
       "    .dataframe tbody tr th:only-of-type {\n",
       "        vertical-align: middle;\n",
       "    }\n",
       "\n",
       "    .dataframe tbody tr th {\n",
       "        vertical-align: top;\n",
       "    }\n",
       "\n",
       "    .dataframe thead th {\n",
       "        text-align: right;\n",
       "    }\n",
       "</style>\n",
       "<table border=\"1\" class=\"dataframe\">\n",
       "  <thead>\n",
       "    <tr style=\"text-align: right;\">\n",
       "      <th></th>\n",
       "      <th>age</th>\n",
       "      <th>gender</th>\n",
       "      <th>height</th>\n",
       "      <th>weight</th>\n",
       "      <th>ap_hi</th>\n",
       "      <th>ap_lo</th>\n",
       "      <th>cholesterol</th>\n",
       "      <th>gluc</th>\n",
       "      <th>smoke</th>\n",
       "      <th>alco</th>\n",
       "      <th>active</th>\n",
       "      <th>cardio</th>\n",
       "    </tr>\n",
       "  </thead>\n",
       "  <tbody>\n",
       "    <tr>\n",
       "      <th>0</th>\n",
       "      <td>50.0</td>\n",
       "      <td>2</td>\n",
       "      <td>168</td>\n",
       "      <td>62.0</td>\n",
       "      <td>110</td>\n",
       "      <td>80</td>\n",
       "      <td>1</td>\n",
       "      <td>1</td>\n",
       "      <td>0</td>\n",
       "      <td>0</td>\n",
       "      <td>1</td>\n",
       "      <td>0</td>\n",
       "    </tr>\n",
       "    <tr>\n",
       "      <th>1</th>\n",
       "      <td>55.0</td>\n",
       "      <td>1</td>\n",
       "      <td>156</td>\n",
       "      <td>85.0</td>\n",
       "      <td>140</td>\n",
       "      <td>90</td>\n",
       "      <td>3</td>\n",
       "      <td>1</td>\n",
       "      <td>0</td>\n",
       "      <td>0</td>\n",
       "      <td>1</td>\n",
       "      <td>1</td>\n",
       "    </tr>\n",
       "    <tr>\n",
       "      <th>2</th>\n",
       "      <td>52.0</td>\n",
       "      <td>1</td>\n",
       "      <td>165</td>\n",
       "      <td>64.0</td>\n",
       "      <td>130</td>\n",
       "      <td>70</td>\n",
       "      <td>3</td>\n",
       "      <td>1</td>\n",
       "      <td>0</td>\n",
       "      <td>0</td>\n",
       "      <td>0</td>\n",
       "      <td>1</td>\n",
       "    </tr>\n",
       "    <tr>\n",
       "      <th>3</th>\n",
       "      <td>48.0</td>\n",
       "      <td>2</td>\n",
       "      <td>169</td>\n",
       "      <td>82.0</td>\n",
       "      <td>150</td>\n",
       "      <td>100</td>\n",
       "      <td>1</td>\n",
       "      <td>1</td>\n",
       "      <td>0</td>\n",
       "      <td>0</td>\n",
       "      <td>1</td>\n",
       "      <td>1</td>\n",
       "    </tr>\n",
       "    <tr>\n",
       "      <th>4</th>\n",
       "      <td>48.0</td>\n",
       "      <td>1</td>\n",
       "      <td>156</td>\n",
       "      <td>56.0</td>\n",
       "      <td>100</td>\n",
       "      <td>60</td>\n",
       "      <td>1</td>\n",
       "      <td>1</td>\n",
       "      <td>0</td>\n",
       "      <td>0</td>\n",
       "      <td>0</td>\n",
       "      <td>0</td>\n",
       "    </tr>\n",
       "  </tbody>\n",
       "</table>\n",
       "</div>"
      ],
      "text/plain": [
       "    age  gender  height  weight  ap_hi  ...  gluc  smoke  alco  active  cardio\n",
       "0  50.0       2     168    62.0    110  ...     1      0     0       1       0\n",
       "1  55.0       1     156    85.0    140  ...     1      0     0       1       1\n",
       "2  52.0       1     165    64.0    130  ...     1      0     0       0       1\n",
       "3  48.0       2     169    82.0    150  ...     1      0     0       1       1\n",
       "4  48.0       1     156    56.0    100  ...     1      0     0       0       0\n",
       "\n",
       "[5 rows x 12 columns]"
      ]
     },
     "execution_count": 43,
     "metadata": {},
     "output_type": "execute_result"
    }
   ],
   "source": [
    "df.head()"
   ]
  },
  {
   "cell_type": "markdown",
   "metadata": {
    "id": "s7WLGeemGG4g"
   },
   "source": [
    "Mengubah gender dari \"1:women, 2:men\", menjadi \"0:women, 1:men\""
   ]
  },
  {
   "cell_type": "code",
   "execution_count": 44,
   "metadata": {
    "colab": {
     "base_uri": "https://localhost:8080/",
     "height": 206
    },
    "id": "nHNg0uqMGCXz",
    "outputId": "7f05e1d8-7682-4b34-e4cb-6bcd9cc8f798"
   },
   "outputs": [
    {
     "data": {
      "text/html": [
       "<div>\n",
       "<style scoped>\n",
       "    .dataframe tbody tr th:only-of-type {\n",
       "        vertical-align: middle;\n",
       "    }\n",
       "\n",
       "    .dataframe tbody tr th {\n",
       "        vertical-align: top;\n",
       "    }\n",
       "\n",
       "    .dataframe thead th {\n",
       "        text-align: right;\n",
       "    }\n",
       "</style>\n",
       "<table border=\"1\" class=\"dataframe\">\n",
       "  <thead>\n",
       "    <tr style=\"text-align: right;\">\n",
       "      <th></th>\n",
       "      <th>age</th>\n",
       "      <th>gender</th>\n",
       "      <th>height</th>\n",
       "      <th>weight</th>\n",
       "      <th>ap_hi</th>\n",
       "      <th>ap_lo</th>\n",
       "      <th>cholesterol</th>\n",
       "      <th>gluc</th>\n",
       "      <th>smoke</th>\n",
       "      <th>alco</th>\n",
       "      <th>active</th>\n",
       "      <th>cardio</th>\n",
       "    </tr>\n",
       "  </thead>\n",
       "  <tbody>\n",
       "    <tr>\n",
       "      <th>0</th>\n",
       "      <td>50.0</td>\n",
       "      <td>1</td>\n",
       "      <td>168</td>\n",
       "      <td>62.0</td>\n",
       "      <td>110</td>\n",
       "      <td>80</td>\n",
       "      <td>1</td>\n",
       "      <td>1</td>\n",
       "      <td>0</td>\n",
       "      <td>0</td>\n",
       "      <td>1</td>\n",
       "      <td>0</td>\n",
       "    </tr>\n",
       "    <tr>\n",
       "      <th>1</th>\n",
       "      <td>55.0</td>\n",
       "      <td>0</td>\n",
       "      <td>156</td>\n",
       "      <td>85.0</td>\n",
       "      <td>140</td>\n",
       "      <td>90</td>\n",
       "      <td>3</td>\n",
       "      <td>1</td>\n",
       "      <td>0</td>\n",
       "      <td>0</td>\n",
       "      <td>1</td>\n",
       "      <td>1</td>\n",
       "    </tr>\n",
       "    <tr>\n",
       "      <th>2</th>\n",
       "      <td>52.0</td>\n",
       "      <td>0</td>\n",
       "      <td>165</td>\n",
       "      <td>64.0</td>\n",
       "      <td>130</td>\n",
       "      <td>70</td>\n",
       "      <td>3</td>\n",
       "      <td>1</td>\n",
       "      <td>0</td>\n",
       "      <td>0</td>\n",
       "      <td>0</td>\n",
       "      <td>1</td>\n",
       "    </tr>\n",
       "    <tr>\n",
       "      <th>3</th>\n",
       "      <td>48.0</td>\n",
       "      <td>1</td>\n",
       "      <td>169</td>\n",
       "      <td>82.0</td>\n",
       "      <td>150</td>\n",
       "      <td>100</td>\n",
       "      <td>1</td>\n",
       "      <td>1</td>\n",
       "      <td>0</td>\n",
       "      <td>0</td>\n",
       "      <td>1</td>\n",
       "      <td>1</td>\n",
       "    </tr>\n",
       "    <tr>\n",
       "      <th>4</th>\n",
       "      <td>48.0</td>\n",
       "      <td>0</td>\n",
       "      <td>156</td>\n",
       "      <td>56.0</td>\n",
       "      <td>100</td>\n",
       "      <td>60</td>\n",
       "      <td>1</td>\n",
       "      <td>1</td>\n",
       "      <td>0</td>\n",
       "      <td>0</td>\n",
       "      <td>0</td>\n",
       "      <td>0</td>\n",
       "    </tr>\n",
       "  </tbody>\n",
       "</table>\n",
       "</div>"
      ],
      "text/plain": [
       "    age  gender  height  weight  ap_hi  ...  gluc  smoke  alco  active  cardio\n",
       "0  50.0       1     168    62.0    110  ...     1      0     0       1       0\n",
       "1  55.0       0     156    85.0    140  ...     1      0     0       1       1\n",
       "2  52.0       0     165    64.0    130  ...     1      0     0       0       1\n",
       "3  48.0       1     169    82.0    150  ...     1      0     0       1       1\n",
       "4  48.0       0     156    56.0    100  ...     1      0     0       0       0\n",
       "\n",
       "[5 rows x 12 columns]"
      ]
     },
     "execution_count": 44,
     "metadata": {},
     "output_type": "execute_result"
    }
   ],
   "source": [
    "df['gender'] = df.gender.replace([1,2], [0,1])\n",
    "df.head()"
   ]
  },
  {
   "cell_type": "markdown",
   "metadata": {
    "id": "nvqE57CoM68Z"
   },
   "source": [
    "Melakukan proses encoding pada data tipe kategori. Ini bertujuan untuk mempermudah model dalam memproses data.\n",
    "  Sebelumnya pada data kategori, yaitu cholesterol, gluc, smoke, alco, dan active terdiri dari dua maupun tiga kategori dalam satu kolom. dengan encoding kita akan membuat masing masing kategori menjadi kolom baru, dan kolom yang memuat kategori tersebut akan bernilai 1, sedangkan yang tidak akan bernilai 0.\n",
    "  Dengan encoding diharapkan nantinya akan memudahkan model untuk melakukan proses training dan evaluasi.\n",
    "  pada scikit learn tersedia fitur OneHotEncoder yang berguna untuk melakukan proses encoding."
   ]
  },
  {
   "cell_type": "markdown",
   "metadata": {
    "id": "Y0h6JafNHAt0"
   },
   "source": [
    "one hot encoding data categorical yang memiliki 3 value, yaitu cholesterol dan gluc"
   ]
  },
  {
   "cell_type": "code",
   "execution_count": 45,
   "metadata": {
    "colab": {
     "base_uri": "https://localhost:8080/",
     "height": 206
    },
    "id": "WqGsSnapHFHy",
    "outputId": "af3bad31-1b27-43e3-ea42-6cc2daa82504"
   },
   "outputs": [
    {
     "data": {
      "text/html": [
       "<div>\n",
       "<style scoped>\n",
       "    .dataframe tbody tr th:only-of-type {\n",
       "        vertical-align: middle;\n",
       "    }\n",
       "\n",
       "    .dataframe tbody tr th {\n",
       "        vertical-align: top;\n",
       "    }\n",
       "\n",
       "    .dataframe thead th {\n",
       "        text-align: right;\n",
       "    }\n",
       "</style>\n",
       "<table border=\"1\" class=\"dataframe\">\n",
       "  <thead>\n",
       "    <tr style=\"text-align: right;\">\n",
       "      <th></th>\n",
       "      <th>age</th>\n",
       "      <th>gender</th>\n",
       "      <th>height</th>\n",
       "      <th>weight</th>\n",
       "      <th>ap_hi</th>\n",
       "      <th>ap_lo</th>\n",
       "      <th>smoke</th>\n",
       "      <th>alco</th>\n",
       "      <th>active</th>\n",
       "      <th>cardio</th>\n",
       "      <th>cholesterol_normal</th>\n",
       "      <th>cholesterol_well above normal</th>\n",
       "      <th>gluc_normal</th>\n",
       "      <th>gluc_well above normal</th>\n",
       "    </tr>\n",
       "  </thead>\n",
       "  <tbody>\n",
       "    <tr>\n",
       "      <th>0</th>\n",
       "      <td>50.0</td>\n",
       "      <td>1</td>\n",
       "      <td>168</td>\n",
       "      <td>62.0</td>\n",
       "      <td>110</td>\n",
       "      <td>80</td>\n",
       "      <td>0</td>\n",
       "      <td>0</td>\n",
       "      <td>1</td>\n",
       "      <td>0</td>\n",
       "      <td>1</td>\n",
       "      <td>0</td>\n",
       "      <td>1</td>\n",
       "      <td>0</td>\n",
       "    </tr>\n",
       "    <tr>\n",
       "      <th>1</th>\n",
       "      <td>55.0</td>\n",
       "      <td>0</td>\n",
       "      <td>156</td>\n",
       "      <td>85.0</td>\n",
       "      <td>140</td>\n",
       "      <td>90</td>\n",
       "      <td>0</td>\n",
       "      <td>0</td>\n",
       "      <td>1</td>\n",
       "      <td>1</td>\n",
       "      <td>0</td>\n",
       "      <td>1</td>\n",
       "      <td>1</td>\n",
       "      <td>0</td>\n",
       "    </tr>\n",
       "    <tr>\n",
       "      <th>2</th>\n",
       "      <td>52.0</td>\n",
       "      <td>0</td>\n",
       "      <td>165</td>\n",
       "      <td>64.0</td>\n",
       "      <td>130</td>\n",
       "      <td>70</td>\n",
       "      <td>0</td>\n",
       "      <td>0</td>\n",
       "      <td>0</td>\n",
       "      <td>1</td>\n",
       "      <td>0</td>\n",
       "      <td>1</td>\n",
       "      <td>1</td>\n",
       "      <td>0</td>\n",
       "    </tr>\n",
       "    <tr>\n",
       "      <th>3</th>\n",
       "      <td>48.0</td>\n",
       "      <td>1</td>\n",
       "      <td>169</td>\n",
       "      <td>82.0</td>\n",
       "      <td>150</td>\n",
       "      <td>100</td>\n",
       "      <td>0</td>\n",
       "      <td>0</td>\n",
       "      <td>1</td>\n",
       "      <td>1</td>\n",
       "      <td>1</td>\n",
       "      <td>0</td>\n",
       "      <td>1</td>\n",
       "      <td>0</td>\n",
       "    </tr>\n",
       "    <tr>\n",
       "      <th>4</th>\n",
       "      <td>48.0</td>\n",
       "      <td>0</td>\n",
       "      <td>156</td>\n",
       "      <td>56.0</td>\n",
       "      <td>100</td>\n",
       "      <td>60</td>\n",
       "      <td>0</td>\n",
       "      <td>0</td>\n",
       "      <td>0</td>\n",
       "      <td>0</td>\n",
       "      <td>1</td>\n",
       "      <td>0</td>\n",
       "      <td>1</td>\n",
       "      <td>0</td>\n",
       "    </tr>\n",
       "  </tbody>\n",
       "</table>\n",
       "</div>"
      ],
      "text/plain": [
       "    age  gender  ...  gluc_normal  gluc_well above normal\n",
       "0  50.0       1  ...            1                       0\n",
       "1  55.0       0  ...            1                       0\n",
       "2  52.0       0  ...            1                       0\n",
       "3  48.0       1  ...            1                       0\n",
       "4  48.0       0  ...            1                       0\n",
       "\n",
       "[5 rows x 14 columns]"
      ]
     },
     "execution_count": 45,
     "metadata": {},
     "output_type": "execute_result"
    }
   ],
   "source": [
    "df['cholesterol']=df['cholesterol'].map({ 1: 'normal', 2: 'above normal', 3: 'well above normal'})\n",
    "df['gluc']=df['gluc'].map({ 1: 'normal', 2: 'above normal', 3: 'well above normal'})\n",
    "encoding_features = pd.get_dummies(df[['cholesterol','gluc']],drop_first=True)\n",
    "df = pd.concat([df,encoding_features],axis=1)\n",
    "df.drop(['cholesterol','gluc'],axis=1,inplace=True)\n",
    "df.head()"
   ]
  },
  {
   "cell_type": "markdown",
   "metadata": {
    "id": "GkpoUiGrJsBF"
   },
   "source": [
    "### Split Data\n",
    "\n",
    "membagi data menjadi dua jenis yaitu data train dan data test.\n",
    "data train akan saya gunakan pada tahap training, dan data test akan saya gunakan pada tahap evaluasi.\n",
    "Proses membagi data menggunakan fungsi train_test_split dari library scikit learn."
   ]
  },
  {
   "cell_type": "code",
   "execution_count": 46,
   "metadata": {
    "id": "RkJY3cTKJyQp"
   },
   "outputs": [],
   "source": [
    "from sklearn.model_selection import train_test_split\n",
    "X = df.drop([\"cardio\"],axis =1)\n",
    "y = df[\"cardio\"]\n",
    "X_train, X_test, y_train, y_test = train_test_split(X, y, test_size = 0.2, random_state = 56)"
   ]
  },
  {
   "cell_type": "markdown",
   "metadata": {
    "id": "ZzdMrALILHdR"
   },
   "source": [
    "Cek proporsi data"
   ]
  },
  {
   "cell_type": "code",
   "execution_count": 47,
   "metadata": {
    "colab": {
     "base_uri": "https://localhost:8080/"
    },
    "id": "0PGmrbAaLJ_f",
    "outputId": "44230f34-d309-4f76-f438-16fe58811512"
   },
   "outputs": [
    {
     "name": "stdout",
     "output_type": "stream",
     "text": [
      "Total of dataset: 64164\n",
      "total off train dataset: 51331\n",
      "Total of  test dataset: 12833\n"
     ]
    }
   ],
   "source": [
    "print(f'Total of dataset: {len(X)}')\n",
    "print(f'total off train dataset: {len(X_train)}')\n",
    "print(f'Total of  test dataset: {len(X_test)}')"
   ]
  },
  {
   "cell_type": "markdown",
   "metadata": {
    "id": "5Sv2kDE2BlEY"
   },
   "source": [
    "Melihat perbandingan label \"cardio\" dan \"no cardio\" pada y_train dan y_test dengan matplotlib"
   ]
  },
  {
   "cell_type": "code",
   "execution_count": 51,
   "metadata": {
    "colab": {
     "base_uri": "https://localhost:8080/",
     "height": 524
    },
    "id": "-Dj6zyPt_lNI",
    "outputId": "226910dc-87ee-42f1-ad37-b2c3656cf83d"
   },
   "outputs": [
    {
     "data": {
      "text/plain": [
       "<matplotlib.axes._subplots.AxesSubplot at 0x7f0d9b5ee850>"
      ]
     },
     "execution_count": 51,
     "metadata": {},
     "output_type": "execute_result"
    },
    {
     "data": {
      "image/png": "[encoded data removed]",
      "text/plain": [
       "<Figure size 432x288 with 1 Axes>"
      ]
     },
     "metadata": {
      "needs_background": "light"
     },
     "output_type": "display_data"
    },
    {
     "data": {
      "image/png": "[encoded data removed]",
      "text/plain": [
       "<Figure size 432x288 with 1 Axes>"
      ]
     },
     "metadata": {
      "needs_background": "light"
     },
     "output_type": "display_data"
    }
   ],
   "source": [
    "label_train = y_train.value_counts()\n",
    "label_test = y_test.value_counts()\n",
    "plt.figure(0)\n",
    "label_train.plot(kind='bar')\n",
    "plt.figure(1)\n",
    "label_test.plot(kind='bar')"
   ]
  },
  {
   "cell_type": "markdown",
   "metadata": {
    "id": "ZvFA4VWnM2iu"
   },
   "source": [
    "### Standarisasi\n",
    "\n",
    "Setelah melakukan proses encoding pada setiap data kategori maka akan membentuk nilai 1 dan 0 pada masing masing kategori, selanjutnya saya melakukan proses standarisasi pada data numerik.\n",
    "  Standardisasi adalah teknik transformasi yang paling umum digunakan dalam tahap persiapan pemodelan. Untuk data numerik, kita tidak akan melakukan transformasi dengan one-hot-encoding seperti pada fitur kategori. Kita akan menggunakan teknik StandarScaler dari library Scikitlearn.\n",
    "  StandardScaler melakukan proses standarisasi fitur dengan mengurangkan mean (nilai rata-rata) kemudian membaginya dengan standar deviasi untuk menggeser distribusi. StandardScaler menghasilkan distribusi dengan standar deviasi sama dengan 1 dan mean sama dengan 0. Sekitar 68% dari nilai akan berada di antara -1 dan 1.\n"
   ]
  },
  {
   "cell_type": "code",
   "execution_count": 52,
   "metadata": {
    "colab": {
     "base_uri": "https://localhost:8080/",
     "height": 414
    },
    "id": "GnvE_-pmM_eD",
    "outputId": "e6f3b492-dfbc-45d6-d07b-84318759df8c"
   },
   "outputs": [
    {
     "name": "stderr",
     "output_type": "stream",
     "text": [
      "/usr/local/lib/python3.7/dist-packages/ipykernel_launcher.py:5: SettingWithCopyWarning: \n",
      "A value is trying to be set on a copy of a slice from a DataFrame.\n",
      "Try using .loc[row_indexer,col_indexer] = value instead\n",
      "\n",
      "See the caveats in the documentation: https://pandas.pydata.org/pandas-docs/stable/user_guide/indexing.html#returning-a-view-versus-a-copy\n",
      "  \"\"\"\n",
      "/usr/local/lib/python3.7/dist-packages/pandas/core/indexing.py:1734: SettingWithCopyWarning: \n",
      "A value is trying to be set on a copy of a slice from a DataFrame.\n",
      "Try using .loc[row_indexer,col_indexer] = value instead\n",
      "\n",
      "See the caveats in the documentation: https://pandas.pydata.org/pandas-docs/stable/user_guide/indexing.html#returning-a-view-versus-a-copy\n",
      "  isetter(loc, value[:, i].tolist())\n"
     ]
    },
    {
     "data": {
      "text/html": [
       "<div>\n",
       "<style scoped>\n",
       "    .dataframe tbody tr th:only-of-type {\n",
       "        vertical-align: middle;\n",
       "    }\n",
       "\n",
       "    .dataframe tbody tr th {\n",
       "        vertical-align: top;\n",
       "    }\n",
       "\n",
       "    .dataframe thead th {\n",
       "        text-align: right;\n",
       "    }\n",
       "</style>\n",
       "<table border=\"1\" class=\"dataframe\">\n",
       "  <thead>\n",
       "    <tr style=\"text-align: right;\">\n",
       "      <th></th>\n",
       "      <th>age</th>\n",
       "      <th>height</th>\n",
       "      <th>weight</th>\n",
       "      <th>ap_hi</th>\n",
       "      <th>ap_lo</th>\n",
       "    </tr>\n",
       "  </thead>\n",
       "  <tbody>\n",
       "    <tr>\n",
       "      <th>263</th>\n",
       "      <td>0.092024</td>\n",
       "      <td>0.071676</td>\n",
       "      <td>0.441451</td>\n",
       "      <td>0.179872</td>\n",
       "      <td>0.865996</td>\n",
       "    </tr>\n",
       "    <tr>\n",
       "      <th>20718</th>\n",
       "      <td>0.385867</td>\n",
       "      <td>-0.563104</td>\n",
       "      <td>2.293545</td>\n",
       "      <td>0.179872</td>\n",
       "      <td>-0.149331</td>\n",
       "    </tr>\n",
       "    <tr>\n",
       "      <th>10674</th>\n",
       "      <td>-0.201820</td>\n",
       "      <td>0.579499</td>\n",
       "      <td>2.589880</td>\n",
       "      <td>0.766732</td>\n",
       "      <td>-0.149331</td>\n",
       "    </tr>\n",
       "    <tr>\n",
       "      <th>53810</th>\n",
       "      <td>-0.789506</td>\n",
       "      <td>-0.943972</td>\n",
       "      <td>-0.447554</td>\n",
       "      <td>1.353593</td>\n",
       "      <td>0.865996</td>\n",
       "    </tr>\n",
       "    <tr>\n",
       "      <th>67647</th>\n",
       "      <td>-0.495663</td>\n",
       "      <td>0.960367</td>\n",
       "      <td>-1.114308</td>\n",
       "      <td>-0.993849</td>\n",
       "      <td>-0.149331</td>\n",
       "    </tr>\n",
       "  </tbody>\n",
       "</table>\n",
       "</div>"
      ],
      "text/plain": [
       "            age    height    weight     ap_hi     ap_lo\n",
       "263    0.092024  0.071676  0.441451  0.179872  0.865996\n",
       "20718  0.385867 -0.563104  2.293545  0.179872 -0.149331\n",
       "10674 -0.201820  0.579499  2.589880  0.766732 -0.149331\n",
       "53810 -0.789506 -0.943972 -0.447554  1.353593  0.865996\n",
       "67647 -0.495663  0.960367 -1.114308 -0.993849 -0.149331"
      ]
     },
     "execution_count": 52,
     "metadata": {},
     "output_type": "execute_result"
    }
   ],
   "source": [
    "from sklearn.preprocessing import StandardScaler\n",
    "numerical_features = ['age', 'height', 'weight', 'ap_hi', 'ap_lo']\n",
    "scaler = StandardScaler()\n",
    "scaler.fit(X_train[numerical_features])\n",
    "X_train[numerical_features] = scaler.transform(X_train.loc[:, numerical_features])\n",
    "X_train[numerical_features].head()"
   ]
  },
  {
   "cell_type": "code",
   "execution_count": 53,
   "metadata": {
    "colab": {
     "base_uri": "https://localhost:8080/",
     "height": 424
    },
    "id": "SzSn9W00N-kC",
    "outputId": "04fddd43-0089-4b56-b10b-b75e7523e64e"
   },
   "outputs": [
    {
     "data": {
      "text/html": [
       "<div>\n",
       "<style scoped>\n",
       "    .dataframe tbody tr th:only-of-type {\n",
       "        vertical-align: middle;\n",
       "    }\n",
       "\n",
       "    .dataframe tbody tr th {\n",
       "        vertical-align: top;\n",
       "    }\n",
       "\n",
       "    .dataframe thead th {\n",
       "        text-align: right;\n",
       "    }\n",
       "</style>\n",
       "<table border=\"1\" class=\"dataframe\">\n",
       "  <thead>\n",
       "    <tr style=\"text-align: right;\">\n",
       "      <th></th>\n",
       "      <th>age</th>\n",
       "      <th>gender</th>\n",
       "      <th>height</th>\n",
       "      <th>weight</th>\n",
       "      <th>ap_hi</th>\n",
       "      <th>ap_lo</th>\n",
       "      <th>smoke</th>\n",
       "      <th>alco</th>\n",
       "      <th>active</th>\n",
       "      <th>cholesterol_normal</th>\n",
       "      <th>cholesterol_well above normal</th>\n",
       "      <th>gluc_normal</th>\n",
       "      <th>gluc_well above normal</th>\n",
       "    </tr>\n",
       "  </thead>\n",
       "  <tbody>\n",
       "    <tr>\n",
       "      <th>263</th>\n",
       "      <td>0.092024</td>\n",
       "      <td>0</td>\n",
       "      <td>0.071676</td>\n",
       "      <td>0.441451</td>\n",
       "      <td>0.179872</td>\n",
       "      <td>0.865996</td>\n",
       "      <td>0</td>\n",
       "      <td>0</td>\n",
       "      <td>1</td>\n",
       "      <td>1</td>\n",
       "      <td>0</td>\n",
       "      <td>1</td>\n",
       "      <td>0</td>\n",
       "    </tr>\n",
       "    <tr>\n",
       "      <th>20718</th>\n",
       "      <td>0.385867</td>\n",
       "      <td>1</td>\n",
       "      <td>-0.563104</td>\n",
       "      <td>2.293545</td>\n",
       "      <td>0.179872</td>\n",
       "      <td>-0.149331</td>\n",
       "      <td>0</td>\n",
       "      <td>0</td>\n",
       "      <td>1</td>\n",
       "      <td>0</td>\n",
       "      <td>1</td>\n",
       "      <td>0</td>\n",
       "      <td>1</td>\n",
       "    </tr>\n",
       "    <tr>\n",
       "      <th>10674</th>\n",
       "      <td>-0.201820</td>\n",
       "      <td>0</td>\n",
       "      <td>0.579499</td>\n",
       "      <td>2.589880</td>\n",
       "      <td>0.766732</td>\n",
       "      <td>-0.149331</td>\n",
       "      <td>0</td>\n",
       "      <td>0</td>\n",
       "      <td>0</td>\n",
       "      <td>0</td>\n",
       "      <td>1</td>\n",
       "      <td>0</td>\n",
       "      <td>1</td>\n",
       "    </tr>\n",
       "    <tr>\n",
       "      <th>53810</th>\n",
       "      <td>-0.789506</td>\n",
       "      <td>0</td>\n",
       "      <td>-0.943972</td>\n",
       "      <td>-0.447554</td>\n",
       "      <td>1.353593</td>\n",
       "      <td>0.865996</td>\n",
       "      <td>0</td>\n",
       "      <td>0</td>\n",
       "      <td>1</td>\n",
       "      <td>1</td>\n",
       "      <td>0</td>\n",
       "      <td>1</td>\n",
       "      <td>0</td>\n",
       "    </tr>\n",
       "    <tr>\n",
       "      <th>67647</th>\n",
       "      <td>-0.495663</td>\n",
       "      <td>1</td>\n",
       "      <td>0.960367</td>\n",
       "      <td>-1.114308</td>\n",
       "      <td>-0.993849</td>\n",
       "      <td>-0.149331</td>\n",
       "      <td>1</td>\n",
       "      <td>0</td>\n",
       "      <td>1</td>\n",
       "      <td>1</td>\n",
       "      <td>0</td>\n",
       "      <td>1</td>\n",
       "      <td>0</td>\n",
       "    </tr>\n",
       "    <tr>\n",
       "      <th>...</th>\n",
       "      <td>...</td>\n",
       "      <td>...</td>\n",
       "      <td>...</td>\n",
       "      <td>...</td>\n",
       "      <td>...</td>\n",
       "      <td>...</td>\n",
       "      <td>...</td>\n",
       "      <td>...</td>\n",
       "      <td>...</td>\n",
       "      <td>...</td>\n",
       "      <td>...</td>\n",
       "      <td>...</td>\n",
       "      <td>...</td>\n",
       "    </tr>\n",
       "    <tr>\n",
       "      <th>27400</th>\n",
       "      <td>0.973554</td>\n",
       "      <td>0</td>\n",
       "      <td>-0.182236</td>\n",
       "      <td>-0.817973</td>\n",
       "      <td>-0.406988</td>\n",
       "      <td>-0.149331</td>\n",
       "      <td>0</td>\n",
       "      <td>0</td>\n",
       "      <td>0</td>\n",
       "      <td>0</td>\n",
       "      <td>1</td>\n",
       "      <td>0</td>\n",
       "      <td>1</td>\n",
       "    </tr>\n",
       "    <tr>\n",
       "      <th>50108</th>\n",
       "      <td>1.267398</td>\n",
       "      <td>0</td>\n",
       "      <td>-0.563104</td>\n",
       "      <td>1.182288</td>\n",
       "      <td>0.766732</td>\n",
       "      <td>0.865996</td>\n",
       "      <td>0</td>\n",
       "      <td>0</td>\n",
       "      <td>1</td>\n",
       "      <td>0</td>\n",
       "      <td>0</td>\n",
       "      <td>0</td>\n",
       "      <td>1</td>\n",
       "    </tr>\n",
       "    <tr>\n",
       "      <th>3381</th>\n",
       "      <td>-1.964880</td>\n",
       "      <td>0</td>\n",
       "      <td>-1.451795</td>\n",
       "      <td>-1.262475</td>\n",
       "      <td>-0.406988</td>\n",
       "      <td>-0.149331</td>\n",
       "      <td>0</td>\n",
       "      <td>0</td>\n",
       "      <td>1</td>\n",
       "      <td>1</td>\n",
       "      <td>0</td>\n",
       "      <td>1</td>\n",
       "      <td>0</td>\n",
       "    </tr>\n",
       "    <tr>\n",
       "      <th>35408</th>\n",
       "      <td>-0.348741</td>\n",
       "      <td>1</td>\n",
       "      <td>0.706455</td>\n",
       "      <td>-0.373470</td>\n",
       "      <td>-0.406988</td>\n",
       "      <td>-0.149331</td>\n",
       "      <td>0</td>\n",
       "      <td>0</td>\n",
       "      <td>1</td>\n",
       "      <td>1</td>\n",
       "      <td>0</td>\n",
       "      <td>1</td>\n",
       "      <td>0</td>\n",
       "    </tr>\n",
       "    <tr>\n",
       "      <th>37717</th>\n",
       "      <td>1.561241</td>\n",
       "      <td>1</td>\n",
       "      <td>2.229926</td>\n",
       "      <td>0.811870</td>\n",
       "      <td>0.766732</td>\n",
       "      <td>0.865996</td>\n",
       "      <td>0</td>\n",
       "      <td>0</td>\n",
       "      <td>1</td>\n",
       "      <td>0</td>\n",
       "      <td>1</td>\n",
       "      <td>1</td>\n",
       "      <td>0</td>\n",
       "    </tr>\n",
       "  </tbody>\n",
       "</table>\n",
       "<p>51331 rows × 13 columns</p>\n",
       "</div>"
      ],
      "text/plain": [
       "            age  gender  ...  gluc_normal  gluc_well above normal\n",
       "263    0.092024       0  ...            1                       0\n",
       "20718  0.385867       1  ...            0                       1\n",
       "10674 -0.201820       0  ...            0                       1\n",
       "53810 -0.789506       0  ...            1                       0\n",
       "67647 -0.495663       1  ...            1                       0\n",
       "...         ...     ...  ...          ...                     ...\n",
       "27400  0.973554       0  ...            0                       1\n",
       "50108  1.267398       0  ...            0                       1\n",
       "3381  -1.964880       0  ...            1                       0\n",
       "35408 -0.348741       1  ...            1                       0\n",
       "37717  1.561241       1  ...            1                       0\n",
       "\n",
       "[51331 rows x 13 columns]"
      ]
     },
     "execution_count": 53,
     "metadata": {},
     "output_type": "execute_result"
    }
   ],
   "source": [
    "X_train"
   ]
  },
  {
   "cell_type": "markdown",
   "metadata": {
    "id": "WW8W58PZVSjK"
   },
   "source": [
    "cek keseimbangan jumlah target "
   ]
  },
  {
   "cell_type": "code",
   "execution_count": 54,
   "metadata": {
    "colab": {
     "base_uri": "https://localhost:8080/"
    },
    "id": "sIeHKR91OAtC",
    "outputId": "ebcf1b50-89c9-4827-c6fe-55d4e7ce4058"
   },
   "outputs": [
    {
     "data": {
      "text/plain": [
       "1    26067\n",
       "0    25264\n",
       "Name: cardio, dtype: int64"
      ]
     },
     "execution_count": 54,
     "metadata": {},
     "output_type": "execute_result"
    }
   ],
   "source": [
    "y_train.value_counts()"
   ]
  },
  {
   "cell_type": "markdown",
   "metadata": {
    "id": "k3u7xd9MO4wy"
   },
   "source": [
    "# Prediksi\n",
    "\n",
    "Karena disini adalah mengklasifikasikan apakah pasien ada kemungkinan mengidap kardiovaskular maka saya menggunakan algoritma klasifikasi dari Random Forest Classifier dari scikit learn.\n",
    "Random Forest bisa dipakai untuk klasifikasi maupun regresi. Random Forest termasuk kedalam kelompok ensemble(group). model ensemble adalah kelompok model yang terdiri dari beberapa model yang bekerja secara bersama-sama. Dari setiap model yang ada didalam kelompok ensemble ini akan membuat prediksi secara independen sehingga prediksi dari satu model dengan model yang lain tentu akan berbeda. Prediksi dari setiap model ini akan digabungkan untuk menjadi prediski akhir model nesemble.\n",
    "\n",
    "ada 2 pendekatan dalam model ensemble, yaitu bagging dan boosting. teknik bagging sangat cocok untuk model Decision Tree. Karena sejatinya Random Forest tersusun atas kumpuan dari model Decision Tree maka, model ini akan memakai teknik bagging. Bagging atau bootstrap aggregating adalah teknik yang melatih model dengan sampel random. Dalam teknik bagging, sejumlah model dilatih dengan teknik sampling with replacement (proses sampling dengan penggantian). Ketika kita melakukan sampling with replacement, sampel dengan nilai yang berbeda bersifat independen. Artinya, nilai suatu sampel tidak mempengaruhi sampel lainnya. Akibatnya, model yang dilatih akan berbeda antara satu dan lainnya.\n",
    "Hasil prediksi akhir adalah jumlah terbanyak yang diprediksi oleh kumpulan model Decision Tree.\n",
    "\n",
    "Pada tahap training saya mendapatkan akurasi, saya menggunakan metrik accurasi score dari scikit learn dan didapatkan akurasi sebesar 0,82, dan untuk menghitung loss saya menggunakan metrik mean squared error dan didapatkan error sebesar 0,17.\n",
    "\n",
    "Mengenai metrics acurracy_score dan mean_squared_error akan saya jelaskan pada tahap evaluasi."
   ]
  },
  {
   "cell_type": "code",
   "execution_count": 56,
   "metadata": {
    "colab": {
     "base_uri": "https://localhost:8080/"
    },
    "id": "gZP64Ph-OoUn",
    "outputId": "0951bb38-37ee-4ada-af87-a624a93542fb"
   },
   "outputs": [
    {
     "name": "stdout",
     "output_type": "stream",
     "text": [
      "score :  0.8246478736046444\n",
      "error :  0.17535212639535563\n"
     ]
    }
   ],
   "source": [
    "# Impor library yang dibutuhkan\n",
    "from sklearn.metrics import mean_squared_error, accuracy_score\n",
    "from sklearn.ensemble import RandomForestClassifier\n",
    "\n",
    "# buat model prediksi\n",
    "clf = RandomForestClassifier(n_estimators=300, max_depth=16, random_state=55, n_jobs=-1)\n",
    "clf.fit(X_train, y_train)\n",
    "acc = accuracy_score(clf.predict(X_train), y_train)\n",
    "print('score : ', acc)\n",
    "error = mean_squared_error(y_true=y_train, y_pred=clf.predict(X_train))\n",
    "print('error : ', error)"
   ]
  },
  {
   "cell_type": "markdown",
   "metadata": {
    "id": "RhhR3eJBbH7z"
   },
   "source": [
    "# Evaluasi\n",
    "\n",
    "\n",
    "Pada tahap evaluasi saya memakai data test yang berbeda dengan data training.\n",
    "\n",
    "metrik evaluasi yang digunakan juga sama seperti pada tahap training yaitu memakai metrik accurasi score dan untuk menghitung loss menggunakan metrik mean squared error.\n",
    "\n",
    "- Accuracy_score adalah sebuah metric evaluasi dengan membandingkan jumlah prediksi yang benar dengan jumlah keseluruhan data.\n",
    "  Jika kita melihat pada tabel confusion metric yang ada di bawah,\n",
    "dapat kita lihat ada 2 label, yaitu true label (label yang sesungguhnya) dan predicted label (label yang diprediksi oleh model). Accuracy_score akan membandingkan jumlah label 1 yang diprediksi 1 ditambah jumlah label 0 yang diprediksi 0 di bagi jumlah keseluruhan data.\n",
    "\n",
    "\n",
    "Dimana TP (True Positif) adalah label 1 yang diprediksi 1, dan TN (True Negatif) adalah label 0 yang diprediksi 0.\n",
    "\n",
    "- mean_squared_error adalah sebuah metric yang digunakan untuk mengukur seberapa besar error / kesalahan dalam prediksi. Semakin kecil error maka performa dari model semakin baik. mean_squared_error akan menghitung selisih rata-rata nilai sebenarnya dengan nilai prediksi.\n",
    "\n",
    "Dengan metric tersebut didapatkan akurasi sebesar 0,72 dan loss sebesar 0,27."
   ]
  },
  {
   "cell_type": "code",
   "execution_count": 57,
   "metadata": {
    "colab": {
     "base_uri": "https://localhost:8080/"
    },
    "id": "loif--P3U-Cv",
    "outputId": "a394986f-21aa-45c2-fc73-5c93f082b35b"
   },
   "outputs": [
    {
     "name": "stderr",
     "output_type": "stream",
     "text": [
      "/usr/local/lib/python3.7/dist-packages/pandas/core/indexing.py:1734: SettingWithCopyWarning: \n",
      "A value is trying to be set on a copy of a slice from a DataFrame.\n",
      "Try using .loc[row_indexer,col_indexer] = value instead\n",
      "\n",
      "See the caveats in the documentation: https://pandas.pydata.org/pandas-docs/stable/user_guide/indexing.html#returning-a-view-versus-a-copy\n",
      "  isetter(loc, value[:, i].tolist())\n"
     ]
    }
   ],
   "source": [
    "# standarisasi fitur numerik\n",
    "\n",
    "X_test.loc[:, numerical_features] = scaler.transform(X_test[numerical_features])"
   ]
  },
  {
   "cell_type": "code",
   "execution_count": 58,
   "metadata": {
    "colab": {
     "base_uri": "https://localhost:8080/",
     "height": 424
    },
    "id": "ClUpzBtybZyz",
    "outputId": "e02f84c1-25ae-405d-80b7-ba0d6851577a"
   },
   "outputs": [
    {
     "data": {
      "text/html": [
       "<div>\n",
       "<style scoped>\n",
       "    .dataframe tbody tr th:only-of-type {\n",
       "        vertical-align: middle;\n",
       "    }\n",
       "\n",
       "    .dataframe tbody tr th {\n",
       "        vertical-align: top;\n",
       "    }\n",
       "\n",
       "    .dataframe thead th {\n",
       "        text-align: right;\n",
       "    }\n",
       "</style>\n",
       "<table border=\"1\" class=\"dataframe\">\n",
       "  <thead>\n",
       "    <tr style=\"text-align: right;\">\n",
       "      <th></th>\n",
       "      <th>age</th>\n",
       "      <th>gender</th>\n",
       "      <th>height</th>\n",
       "      <th>weight</th>\n",
       "      <th>ap_hi</th>\n",
       "      <th>ap_lo</th>\n",
       "      <th>smoke</th>\n",
       "      <th>alco</th>\n",
       "      <th>active</th>\n",
       "      <th>cholesterol_normal</th>\n",
       "      <th>cholesterol_well above normal</th>\n",
       "      <th>gluc_normal</th>\n",
       "      <th>gluc_well above normal</th>\n",
       "    </tr>\n",
       "  </thead>\n",
       "  <tbody>\n",
       "    <tr>\n",
       "      <th>32404</th>\n",
       "      <td>1.267398</td>\n",
       "      <td>1</td>\n",
       "      <td>1.087323</td>\n",
       "      <td>0.071032</td>\n",
       "      <td>0.179872</td>\n",
       "      <td>-0.149331</td>\n",
       "      <td>0</td>\n",
       "      <td>0</td>\n",
       "      <td>0</td>\n",
       "      <td>1</td>\n",
       "      <td>0</td>\n",
       "      <td>0</td>\n",
       "      <td>0</td>\n",
       "    </tr>\n",
       "    <tr>\n",
       "      <th>27716</th>\n",
       "      <td>-1.964880</td>\n",
       "      <td>0</td>\n",
       "      <td>-0.309192</td>\n",
       "      <td>-1.040224</td>\n",
       "      <td>-0.406988</td>\n",
       "      <td>-0.149331</td>\n",
       "      <td>0</td>\n",
       "      <td>0</td>\n",
       "      <td>1</td>\n",
       "      <td>1</td>\n",
       "      <td>0</td>\n",
       "      <td>1</td>\n",
       "      <td>0</td>\n",
       "    </tr>\n",
       "    <tr>\n",
       "      <th>62231</th>\n",
       "      <td>1.120476</td>\n",
       "      <td>0</td>\n",
       "      <td>-1.197884</td>\n",
       "      <td>-0.521638</td>\n",
       "      <td>1.353593</td>\n",
       "      <td>0.865996</td>\n",
       "      <td>0</td>\n",
       "      <td>0</td>\n",
       "      <td>1</td>\n",
       "      <td>1</td>\n",
       "      <td>0</td>\n",
       "      <td>1</td>\n",
       "      <td>0</td>\n",
       "    </tr>\n",
       "    <tr>\n",
       "      <th>57034</th>\n",
       "      <td>1.561241</td>\n",
       "      <td>1</td>\n",
       "      <td>1.849059</td>\n",
       "      <td>0.367367</td>\n",
       "      <td>0.179872</td>\n",
       "      <td>-0.149331</td>\n",
       "      <td>0</td>\n",
       "      <td>1</td>\n",
       "      <td>1</td>\n",
       "      <td>1</td>\n",
       "      <td>0</td>\n",
       "      <td>1</td>\n",
       "      <td>0</td>\n",
       "    </tr>\n",
       "    <tr>\n",
       "      <th>17226</th>\n",
       "      <td>-0.201820</td>\n",
       "      <td>1</td>\n",
       "      <td>0.706455</td>\n",
       "      <td>-0.966140</td>\n",
       "      <td>-0.406988</td>\n",
       "      <td>-2.179985</td>\n",
       "      <td>0</td>\n",
       "      <td>0</td>\n",
       "      <td>0</td>\n",
       "      <td>1</td>\n",
       "      <td>0</td>\n",
       "      <td>1</td>\n",
       "      <td>0</td>\n",
       "    </tr>\n",
       "    <tr>\n",
       "      <th>...</th>\n",
       "      <td>...</td>\n",
       "      <td>...</td>\n",
       "      <td>...</td>\n",
       "      <td>...</td>\n",
       "      <td>...</td>\n",
       "      <td>...</td>\n",
       "      <td>...</td>\n",
       "      <td>...</td>\n",
       "      <td>...</td>\n",
       "      <td>...</td>\n",
       "      <td>...</td>\n",
       "      <td>...</td>\n",
       "      <td>...</td>\n",
       "    </tr>\n",
       "    <tr>\n",
       "      <th>55373</th>\n",
       "      <td>1.267398</td>\n",
       "      <td>1</td>\n",
       "      <td>-0.436148</td>\n",
       "      <td>-1.558810</td>\n",
       "      <td>0.766732</td>\n",
       "      <td>1.881323</td>\n",
       "      <td>0</td>\n",
       "      <td>0</td>\n",
       "      <td>1</td>\n",
       "      <td>1</td>\n",
       "      <td>0</td>\n",
       "      <td>1</td>\n",
       "      <td>0</td>\n",
       "    </tr>\n",
       "    <tr>\n",
       "      <th>17239</th>\n",
       "      <td>0.826633</td>\n",
       "      <td>0</td>\n",
       "      <td>0.071676</td>\n",
       "      <td>-0.743889</td>\n",
       "      <td>-0.406988</td>\n",
       "      <td>-1.164658</td>\n",
       "      <td>0</td>\n",
       "      <td>0</td>\n",
       "      <td>1</td>\n",
       "      <td>1</td>\n",
       "      <td>0</td>\n",
       "      <td>1</td>\n",
       "      <td>0</td>\n",
       "    </tr>\n",
       "    <tr>\n",
       "      <th>27019</th>\n",
       "      <td>-1.377193</td>\n",
       "      <td>0</td>\n",
       "      <td>-0.055280</td>\n",
       "      <td>-1.336559</td>\n",
       "      <td>-0.993849</td>\n",
       "      <td>-1.164658</td>\n",
       "      <td>0</td>\n",
       "      <td>0</td>\n",
       "      <td>1</td>\n",
       "      <td>1</td>\n",
       "      <td>0</td>\n",
       "      <td>1</td>\n",
       "      <td>0</td>\n",
       "    </tr>\n",
       "    <tr>\n",
       "      <th>20407</th>\n",
       "      <td>-1.964880</td>\n",
       "      <td>0</td>\n",
       "      <td>0.579499</td>\n",
       "      <td>-0.299387</td>\n",
       "      <td>-0.406988</td>\n",
       "      <td>-0.149331</td>\n",
       "      <td>0</td>\n",
       "      <td>0</td>\n",
       "      <td>1</td>\n",
       "      <td>1</td>\n",
       "      <td>0</td>\n",
       "      <td>1</td>\n",
       "      <td>0</td>\n",
       "    </tr>\n",
       "    <tr>\n",
       "      <th>39491</th>\n",
       "      <td>0.385867</td>\n",
       "      <td>0</td>\n",
       "      <td>-0.563104</td>\n",
       "      <td>1.923126</td>\n",
       "      <td>-0.406988</td>\n",
       "      <td>-0.149331</td>\n",
       "      <td>0</td>\n",
       "      <td>0</td>\n",
       "      <td>1</td>\n",
       "      <td>1</td>\n",
       "      <td>0</td>\n",
       "      <td>1</td>\n",
       "      <td>0</td>\n",
       "    </tr>\n",
       "  </tbody>\n",
       "</table>\n",
       "<p>12833 rows × 13 columns</p>\n",
       "</div>"
      ],
      "text/plain": [
       "            age  gender  ...  gluc_normal  gluc_well above normal\n",
       "32404  1.267398       1  ...            0                       0\n",
       "27716 -1.964880       0  ...            1                       0\n",
       "62231  1.120476       0  ...            1                       0\n",
       "57034  1.561241       1  ...            1                       0\n",
       "17226 -0.201820       1  ...            1                       0\n",
       "...         ...     ...  ...          ...                     ...\n",
       "55373  1.267398       1  ...            1                       0\n",
       "17239  0.826633       0  ...            1                       0\n",
       "27019 -1.377193       0  ...            1                       0\n",
       "20407 -1.964880       0  ...            1                       0\n",
       "39491  0.385867       0  ...            1                       0\n",
       "\n",
       "[12833 rows x 13 columns]"
      ]
     },
     "execution_count": 58,
     "metadata": {},
     "output_type": "execute_result"
    }
   ],
   "source": [
    "X_test"
   ]
  },
  {
   "cell_type": "code",
   "execution_count": 59,
   "metadata": {
    "colab": {
     "base_uri": "https://localhost:8080/"
    },
    "id": "NI24h8PTbcBH",
    "outputId": "fea99032-b489-43e1-f9d8-18bd14121ee5"
   },
   "outputs": [
    {
     "name": "stdout",
     "output_type": "stream",
     "text": [
      "accuracy in validation :  0.7246162237980207\n",
      "error in validation :  0.2753837762019793\n"
     ]
    }
   ],
   "source": [
    "acc_val = accuracy_score(clf.predict(X_test), y_test)\n",
    "print('accuracy in validation : ', acc_val)\n",
    "\n",
    "error_val = mean_squared_error(y_true=y_test, y_pred=clf.predict(X_test))\n",
    "print('error in validation : ', error_val)"
   ]
  },
  {
   "cell_type": "markdown",
   "metadata": {
    "id": "tQ4bMnH-cglR"
   },
   "source": [
    "Dalam pelatihan model di atas kita mendapatkan akurasi 0,82 pada data train dan 0,74 pada data test\n",
    "\n",
    "sedangkan errornya kita mendapatkan 0,17 pada data train dan 0,27 pada data test"
   ]
  },
  {
   "cell_type": "markdown",
   "metadata": {
    "id": "NncdzETndMjE"
   },
   "source": [
    "# confusion metrics"
   ]
  },
  {
   "cell_type": "code",
   "execution_count": 60,
   "metadata": {
    "colab": {
     "base_uri": "https://localhost:8080/",
     "height": 296
    },
    "id": "RUCgDxFucbNV",
    "outputId": "7715acbb-d346-4cee-a068-a06b24b27833"
   },
   "outputs": [
    {
     "data": {
      "text/plain": [
       "<sklearn.metrics._plot.confusion_matrix.ConfusionMatrixDisplay at 0x7f0d95957bd0>"
      ]
     },
     "execution_count": 60,
     "metadata": {},
     "output_type": "execute_result"
    },
    {
     "data": {
      "image/png": "[encoded data removed]",
      "text/plain": [
       "<Figure size 432x288 with 2 Axes>"
      ]
     },
     "metadata": {
      "needs_background": "light"
     },
     "output_type": "display_data"
    }
   ],
   "source": [
    "from sklearn.metrics import plot_confusion_matrix\n",
    "\n",
    "plot_confusion_matrix(clf, X_test, y_test, values_format='d')"
   ]
  },
  {
   "cell_type": "markdown",
   "metadata": {
    "id": "EcgRm8P7eUMU"
   },
   "source": [
    "# prediksi"
   ]
  },
  {
   "cell_type": "code",
   "execution_count": 61,
   "metadata": {
    "colab": {
     "base_uri": "https://localhost:8080/",
     "height": 676
    },
    "id": "i83EtruydfI5",
    "outputId": "7d68ffb8-c0ac-4d8d-999f-6a48c20ffbef"
   },
   "outputs": [
    {
     "data": {
      "text/html": [
       "<div>\n",
       "<style scoped>\n",
       "    .dataframe tbody tr th:only-of-type {\n",
       "        vertical-align: middle;\n",
       "    }\n",
       "\n",
       "    .dataframe tbody tr th {\n",
       "        vertical-align: top;\n",
       "    }\n",
       "\n",
       "    .dataframe thead th {\n",
       "        text-align: right;\n",
       "    }\n",
       "</style>\n",
       "<table border=\"1\" class=\"dataframe\">\n",
       "  <thead>\n",
       "    <tr style=\"text-align: right;\">\n",
       "      <th></th>\n",
       "      <th>y_true</th>\n",
       "      <th>prediksi_RandomForestClassifier</th>\n",
       "    </tr>\n",
       "  </thead>\n",
       "  <tbody>\n",
       "    <tr>\n",
       "      <th>32404</th>\n",
       "      <td>1</td>\n",
       "      <td>1</td>\n",
       "    </tr>\n",
       "    <tr>\n",
       "      <th>27716</th>\n",
       "      <td>0</td>\n",
       "      <td>0</td>\n",
       "    </tr>\n",
       "    <tr>\n",
       "      <th>62231</th>\n",
       "      <td>0</td>\n",
       "      <td>1</td>\n",
       "    </tr>\n",
       "    <tr>\n",
       "      <th>57034</th>\n",
       "      <td>1</td>\n",
       "      <td>0</td>\n",
       "    </tr>\n",
       "    <tr>\n",
       "      <th>17226</th>\n",
       "      <td>1</td>\n",
       "      <td>0</td>\n",
       "    </tr>\n",
       "    <tr>\n",
       "      <th>62646</th>\n",
       "      <td>0</td>\n",
       "      <td>0</td>\n",
       "    </tr>\n",
       "    <tr>\n",
       "      <th>45227</th>\n",
       "      <td>0</td>\n",
       "      <td>0</td>\n",
       "    </tr>\n",
       "    <tr>\n",
       "      <th>7463</th>\n",
       "      <td>1</td>\n",
       "      <td>1</td>\n",
       "    </tr>\n",
       "    <tr>\n",
       "      <th>21363</th>\n",
       "      <td>0</td>\n",
       "      <td>1</td>\n",
       "    </tr>\n",
       "    <tr>\n",
       "      <th>25596</th>\n",
       "      <td>0</td>\n",
       "      <td>0</td>\n",
       "    </tr>\n",
       "    <tr>\n",
       "      <th>52923</th>\n",
       "      <td>0</td>\n",
       "      <td>0</td>\n",
       "    </tr>\n",
       "    <tr>\n",
       "      <th>23861</th>\n",
       "      <td>0</td>\n",
       "      <td>0</td>\n",
       "    </tr>\n",
       "    <tr>\n",
       "      <th>48628</th>\n",
       "      <td>0</td>\n",
       "      <td>0</td>\n",
       "    </tr>\n",
       "    <tr>\n",
       "      <th>2714</th>\n",
       "      <td>0</td>\n",
       "      <td>0</td>\n",
       "    </tr>\n",
       "    <tr>\n",
       "      <th>18173</th>\n",
       "      <td>1</td>\n",
       "      <td>1</td>\n",
       "    </tr>\n",
       "    <tr>\n",
       "      <th>29081</th>\n",
       "      <td>1</td>\n",
       "      <td>0</td>\n",
       "    </tr>\n",
       "    <tr>\n",
       "      <th>57201</th>\n",
       "      <td>1</td>\n",
       "      <td>1</td>\n",
       "    </tr>\n",
       "    <tr>\n",
       "      <th>30955</th>\n",
       "      <td>1</td>\n",
       "      <td>0</td>\n",
       "    </tr>\n",
       "    <tr>\n",
       "      <th>38173</th>\n",
       "      <td>1</td>\n",
       "      <td>0</td>\n",
       "    </tr>\n",
       "    <tr>\n",
       "      <th>20816</th>\n",
       "      <td>1</td>\n",
       "      <td>1</td>\n",
       "    </tr>\n",
       "  </tbody>\n",
       "</table>\n",
       "</div>"
      ],
      "text/plain": [
       "       y_true  prediksi_RandomForestClassifier\n",
       "32404       1                                1\n",
       "27716       0                                0\n",
       "62231       0                                1\n",
       "57034       1                                0\n",
       "17226       1                                0\n",
       "62646       0                                0\n",
       "45227       0                                0\n",
       "7463        1                                1\n",
       "21363       0                                1\n",
       "25596       0                                0\n",
       "52923       0                                0\n",
       "23861       0                                0\n",
       "48628       0                                0\n",
       "2714        0                                0\n",
       "18173       1                                1\n",
       "29081       1                                0\n",
       "57201       1                                1\n",
       "30955       1                                0\n",
       "38173       1                                0\n",
       "20816       1                                1"
      ]
     },
     "execution_count": 61,
     "metadata": {},
     "output_type": "execute_result"
    }
   ],
   "source": [
    "predict_data = X_test.iloc[:20].copy()\n",
    "pred_dict = {'y_true':y_test[:20]}\n",
    "pred_dict['prediksi_RandomForestClassifier'] = clf.predict(predict_data)\n",
    " \n",
    "pd.DataFrame(pred_dict)\n",
    "\n"
   ]
  },
  {
   "cell_type": "code",
   "execution_count": 62,
   "metadata": {
    "colab": {
     "base_uri": "https://localhost:8080/"
    },
    "id": "KnOhrWsegQo0",
    "outputId": "3849887f-cd24-4b8a-88d2-868aa74fa148"
   },
   "outputs": [
    {
     "name": "stdout",
     "output_type": "stream",
     "text": [
      "accuracy in prediction :  0.65\n",
      "error in prediction :  0.35\n"
     ]
    }
   ],
   "source": [
    "acc_pred = accuracy_score(clf.predict(predict_data), y_test[:20])\n",
    "print('accuracy in prediction : ', acc_pred)\n",
    "\n",
    "error_pred = mean_squared_error(y_true=y_test[:20], y_pred=clf.predict(predict_data))\n",
    "print('error in prediction : ', error_pred)"
   ]
  },
  {
   "cell_type": "markdown",
   "metadata": {
    "id": "UZVqvXRMWjC3"
   },
   "source": [
    "## Penutup\n",
    "\n",
    "Demikian adalah rangkuman dari tahapan Prediksi penyakit kardiovaskular yang saya lakukan. Prediksi masih bisa diperbaiki dengan melakukan hypertuning parameter ataupun memperbaiki dengan memeperbaiki kualitas data."
   ]
  }
 ],
 "metadata": {
  "colab": {
   "collapsed_sections": [],
   "name": "Dicoding_proyek1_ML_Terapan.ipynb",
   "provenance": []
  },
  "kernelspec": {
   "display_name": "Python 3 (ipykernel)",
   "language": "python",
   "name": "python3"
  },
  "language_info": {
   "codemirror_mode": {
    "name": "ipython",
    "version": 3
   },
   "file_extension": ".py",
   "mimetype": "text/x-python",
   "name": "python",
   "nbconvert_exporter": "python",
   "pygments_lexer": "ipython3",
   "version": "3.9.7"
  }
 },
 "nbformat": 4,
 "nbformat_minor": 1
}
